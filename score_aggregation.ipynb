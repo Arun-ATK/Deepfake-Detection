{
 "cells": [
  {
   "cell_type": "code",
   "execution_count": 1,
   "metadata": {},
   "outputs": [],
   "source": [
    "import keras\n",
    "\n",
    "from sklearn.svm import SVC\n",
    "from sklearn.metrics import classification_report, roc_auc_score\n",
    "\n",
    "\n",
    "import numpy as np\n",
    "import pickle"
   ]
  },
  {
   "cell_type": "code",
   "execution_count": 2,
   "metadata": {},
   "outputs": [],
   "source": [
    "DS_CDFV1 = 'celeb_df_v1/'\n",
    "DS_CDFV2 = 'celeb_df_v2/'\n",
    "\n",
    "DS_ORGINAL = 'dataset_original/'\n",
    "DS_SPLIT = 'dataset_split/'\n",
    "DS_IFRAMES = 'dataset_iframes/'\n",
    "DS_FACE = 'dataset_face/'\n",
    "DS_FACE_IMG = 'dataset_face_img/'\n",
    "DS_SRM_SNIPPETS = 'dataset_srm_snippets_5/'\n",
    "DS_SEGMENTS = 'dataset_segments/'\n",
    "DS_RAW = 'dataset_raw/'\n",
    "DS_RESIDUALS = 'dataset_residuals/'\n",
    "DS_TEMPORAL = 'dataset_temporal/'\n",
    "MODELS = 'models/'\n",
    "\n",
    "\n",
    "SEG_1 = 'seg_1/'\n",
    "SEG_2 = 'seg_2/'\n",
    "SEG_3 = 'seg_3/'\n",
    "SEG_4 = 'seg_4/'\n",
    "SEG_5 = 'seg_5/'\n",
    "\n",
    "SEG = ['seg_1_', 'seg_2_', 'seg_3_', 'seg_4_', 'seg_5_']\n",
    "\n",
    "DS_TRAIN = 'train_dataset/'\n",
    "DS_TEST = 'test_dataset/'\n",
    "DS_VAL = 'val_dataset/'\n",
    "\n",
    "CLASS_FAKE = 'fake/'\n",
    "CLASS_REAL = 'real/'\n",
    "\n",
    "\n",
    "TOP_LEVEL_1 = [DS_SPLIT, DS_IFRAMES, DS_FACE, DS_FACE_IMG, DS_SRM_SNIPPETS]\n",
    "TOP_LEVEL_2 = [DS_SEGMENTS, DS_RAW, DS_RESIDUALS]\n",
    "SEGMENTS = [SEG_1, SEG_2, SEG_3, SEG_4, SEG_5]\n",
    "SPLIT = [DS_TRAIN, DS_TEST, DS_VAL]\n",
    "CLASS = [CLASS_REAL, CLASS_FAKE]\n",
    "\n",
    "DATASET = [DS_CDFV1, DS_CDFV2]"
   ]
  },
  {
   "cell_type": "code",
   "execution_count": 3,
   "metadata": {},
   "outputs": [],
   "source": [
    "TEST_SCORE_PATH = 'test_scores/'\n",
    "SAVE_MODEL_PATH = 'models/SVM/'"
   ]
  },
  {
   "cell_type": "code",
   "execution_count": 4,
   "metadata": {},
   "outputs": [],
   "source": [
    "class VideoScore():\n",
    "    def __init__(self, filename, score, true_class, fake_on_lower_half = True):\n",
    "        self.filename = filename\n",
    "        self.score = score\n",
    "        self.true_class = true_class\n",
    "        self.fake_on_lower_half = fake_on_lower_half\n",
    "\n",
    "    def get_filename(self):\n",
    "        return self.filename\n",
    "    \n",
    "    def get_score(self):\n",
    "        return self.score\n",
    "    \n",
    "    def get_true_class(self):\n",
    "        return self.true_class\n",
    "    \n",
    "    def get_fake_on_lower_half(self):\n",
    "        return self.fake_on_lower_half"
   ]
  },
  {
   "attachments": {},
   "cell_type": "markdown",
   "metadata": {},
   "source": [
    "# Get Model Scores"
   ]
  },
  {
   "cell_type": "code",
   "execution_count": 6,
   "metadata": {},
   "outputs": [],
   "source": [
    "srm_scores_train = []\n",
    "srm_scores_test = []\n",
    "\n",
    "with open(TEST_SCORE_PATH + 'srm_scores_train', 'rb') as f:\n",
    "    srm_scores_train = pickle.load(f)\n",
    "\n",
    "with open(TEST_SCORE_PATH + 'srm_scores_test', 'rb') as f:\n",
    "    srm_scores_test = pickle.load(f)"
   ]
  },
  {
   "cell_type": "code",
   "execution_count": 7,
   "metadata": {},
   "outputs": [],
   "source": [
    "mesonet_scores_train = []\n",
    "mesonet_scores_test = []\n",
    "\n",
    "with open(TEST_SCORE_PATH + 'mesonet_pruned_train.pkl', 'rb') as f:\n",
    "    mesonet_scores_train = pickle.load(f)\n",
    "\n",
    "with open(TEST_SCORE_PATH + 'mesonet_pruned_test.pkl', 'rb') as f:\n",
    "    mesonet_scores_test = pickle.load(f)"
   ]
  },
  {
   "cell_type": "code",
   "execution_count": 8,
   "metadata": {},
   "outputs": [],
   "source": [
    "temporal_scores_train = []\n",
    "temporal_scores_test = []\n",
    "\n",
    "with open(TEST_SCORE_PATH + 'temporal_scores_train', 'rb') as f:\n",
    "    temporal_scores_train = pickle.load(f)\n",
    "\n",
    "with open(TEST_SCORE_PATH + 'temporal_scores_test', 'rb') as f:\n",
    "    temporal_scores_test = pickle.load(f)"
   ]
  },
  {
   "cell_type": "code",
   "execution_count": 9,
   "metadata": {},
   "outputs": [
    {
     "name": "stdout",
     "output_type": "stream",
     "text": [
      "518\n",
      "4810\n",
      "518\n",
      "4810\n",
      "518\n",
      "4809\n"
     ]
    }
   ],
   "source": [
    "print(len(srm_scores_test))\n",
    "print(len(srm_scores_train))\n",
    "\n",
    "print(len(mesonet_scores_test))\n",
    "print(len(mesonet_scores_train))\n",
    "\n",
    "print(len(temporal_scores_test))\n",
    "print(len(temporal_scores_train))"
   ]
  },
  {
   "attachments": {},
   "cell_type": "markdown",
   "metadata": {},
   "source": [
    "# Sort Scores by Video"
   ]
  },
  {
   "cell_type": "code",
   "execution_count": 10,
   "metadata": {},
   "outputs": [
    {
     "data": {
      "text/plain": [
       "1927"
      ]
     },
     "execution_count": 10,
     "metadata": {},
     "output_type": "execute_result"
    }
   ],
   "source": [
    "mesonet_names = set([m.get_filename() for m in mesonet_scores_train])\n",
    "temporal_names = set([t.get_filename() for t in temporal_scores_train])\n",
    "srm_names = set([s.get_filename() for s in srm_scores_train])\n",
    "\n",
    "len(temporal_names.symmetric_difference(srm_names))"
   ]
  },
  {
   "cell_type": "code",
   "execution_count": 11,
   "metadata": {},
   "outputs": [
    {
     "name": "stdout",
     "output_type": "stream",
     "text": [
      "3846\n",
      "3846\n",
      "3846\n"
     ]
    }
   ],
   "source": [
    "mesonet_names = set([m.get_filename() for m in mesonet_scores_train])\n",
    "temporal_names = set([t.get_filename() for t in temporal_scores_train])\n",
    "srm_names = set([s.get_filename() for s in srm_scores_train])\n",
    "\n",
    "extra_filename = mesonet_names.symmetric_difference(temporal_names)\n",
    "extra_filename_2 = mesonet_names.symmetric_difference(srm_names)\n",
    "\n",
    "m_train = []\n",
    "s_train = []\n",
    "t_train = []\n",
    "\n",
    "for m in sorted(mesonet_scores_train, key=lambda x: x.get_filename()):\n",
    "    if m.get_filename() not in extra_filename:\n",
    "        m_train.append(m)\n",
    "\n",
    "for s in sorted(srm_scores_train, key=lambda x: x.get_filename()):\n",
    "    if s.get_filename() not in extra_filename:\n",
    "        s_train.append(s)\n",
    "\n",
    "for t in sorted(temporal_scores_train, key=lambda x: x.get_filename()):\n",
    "    if t.get_filename() not in extra_filename:\n",
    "        t_train.append(t)\n",
    "\n",
    "print(len(m_train))\n",
    "print(len(s_train))\n",
    "print(len(t_train))"
   ]
  },
  {
   "cell_type": "code",
   "execution_count": 12,
   "metadata": {},
   "outputs": [],
   "source": [
    "mesonet_scores_test.sort(key=lambda x: x.get_filename())\n",
    "srm_scores_test.sort(key=lambda x: x.get_filename())\n",
    "temporal_scores_test.sort(key=lambda x: x.get_filename())"
   ]
  },
  {
   "cell_type": "code",
   "execution_count": 13,
   "metadata": {},
   "outputs": [],
   "source": [
    "for m, s, t in zip(m_train, s_train, t_train):\n",
    "    assert m.get_filename() == s.get_filename() == t.get_filename()\n",
    "    assert m.get_true_class() == s.get_true_class() == t.get_true_class()\n",
    "\n",
    "for m, s, t in zip(mesonet_scores_test, srm_scores_test, temporal_scores_test):\n",
    "    assert m.get_filename() == s.get_filename() == t.get_filename()\n",
    "    assert m.get_true_class() == s.get_true_class() == t.get_true_class()"
   ]
  },
  {
   "attachments": {},
   "cell_type": "markdown",
   "metadata": {},
   "source": [
    "# Averaging + Weighted Voting"
   ]
  },
  {
   "cell_type": "code",
   "execution_count": 23,
   "metadata": {},
   "outputs": [],
   "source": [
    "def get_avg_score(s1, s2, s3, w1=0.33, w2=0.33, w3=0.33):\n",
    "    return ((s1 * w1) + (s2 * w2) + (s3 * w3))"
   ]
  },
  {
   "cell_type": "code",
   "execution_count": 25,
   "metadata": {},
   "outputs": [],
   "source": [
    "true_fake, true_real, false_fake, false_real = 0, 0, 0, 0\n",
    "y_true = []\n",
    "y_score = []\n",
    "\n",
    "for m, s, t in zip(mesonet_scores_test, srm_scores_test, temporal_scores_test):\n",
    "    avg_score = get_avg_score(m.get_score(), s.get_score(), t.get_score())\n",
    "    \n",
    "    if avg_score < 0.5 and m.get_true_class() == CLASS_FAKE:\n",
    "        true_fake += 1\n",
    "\n",
    "    elif avg_score >= 0.5 and m.get_true_class() == CLASS_REAL:\n",
    "        true_real += 1\n",
    "\n",
    "    elif avg_score < 0.5 and m.get_true_class() == CLASS_REAL:\n",
    "        false_fake += 1\n",
    "\n",
    "    else:\n",
    "        false_real += 1\n",
    "\n",
    "    y_true.append(0 if m.get_true_class() == CLASS_FAKE else 1)\n",
    "    y_score.append(0 if avg_score < 0.5 else 1)\n",
    "    "
   ]
  },
  {
   "cell_type": "code",
   "execution_count": 28,
   "metadata": {},
   "outputs": [],
   "source": [
    "accuracy = (true_real + true_fake) / (true_fake + true_real + false_fake + false_real)\n",
    "precision = true_fake / (true_fake + false_fake)\n",
    "recall = true_fake / (true_fake + false_real)\n",
    "\n",
    "auc = roc_auc_score(y_true, y_score)"
   ]
  },
  {
   "cell_type": "code",
   "execution_count": 30,
   "metadata": {},
   "outputs": [
    {
     "name": "stdout",
     "output_type": "stream",
     "text": [
      "True Fake:340\n",
      "True Real:133\n",
      "False Fake:45\n",
      "False Real:0\n",
      "---\n",
      "Accuracy: 0.9131\n",
      "Precision: 0.8831\n",
      "Recall: 1.0000\n",
      "AUC Score: 0.8736\n"
     ]
    }
   ],
   "source": [
    "print(f'True Fake:{true_fake}')\n",
    "print(f'True Real:{true_real}')\n",
    "print(f'False Fake:{false_fake}')\n",
    "print(f'False Real:{false_real}')\n",
    "print(f'---')\n",
    "print(f'Accuracy: {accuracy:.4f}')\n",
    "print(f'Precision: {precision:.4f}')\n",
    "print(f'Recall: {recall:.4f}')\n",
    "print(f'AUC Score: {auc:.4f}')"
   ]
  },
  {
   "attachments": {},
   "cell_type": "markdown",
   "metadata": {},
   "source": [
    "# Majority Voting\n",
    "Use this only when you have odd number of models"
   ]
  },
  {
   "cell_type": "code",
   "execution_count": 41,
   "metadata": {},
   "outputs": [],
   "source": [
    "true_fake, true_real, false_fake, false_real = 0, 0, 0, 0\n",
    "y_true = []\n",
    "y_score = []\n",
    "\n",
    "for m, s, t in zip(mesonet_scores_test, srm_scores_test, temporal_scores_test):\n",
    "    pred_fake = 0\n",
    "\n",
    "    y_true.append(0 if m.get_true_class() == CLASS_FAKE else 1)\n",
    "\n",
    "    if (m.get_score() < 0.5):\n",
    "        pred_fake += 1\n",
    "\n",
    "    if (s.get_score() < 0.5):\n",
    "        pred_fake += 1\n",
    "\n",
    "    if (t.get_score() < 0.5):\n",
    "        pred_fake += 1\n",
    "\n",
    "    if pred_fake >= 2:\n",
    "        y_score.append(0)\n",
    "\n",
    "        if m.get_true_class() == CLASS_FAKE:\n",
    "            true_fake += 1\n",
    "        else:\n",
    "            false_fake += 1\n",
    "\n",
    "    else:\n",
    "        y_score.append(1)\n",
    "        \n",
    "        if m.get_true_class() == CLASS_REAL:\n",
    "            true_real += 1\n",
    "        else:\n",
    "            false_real += 1"
   ]
  },
  {
   "cell_type": "code",
   "execution_count": 44,
   "metadata": {},
   "outputs": [],
   "source": [
    "accuracy = (true_real + true_fake) / (true_fake + true_real + false_fake + false_real)\n",
    "precision = true_fake / (true_fake + false_fake)\n",
    "recall = true_fake / (true_fake + false_real)\n",
    "\n",
    "auc = roc_auc_score(y_true, y_score)"
   ]
  },
  {
   "cell_type": "code",
   "execution_count": 45,
   "metadata": {},
   "outputs": [
    {
     "name": "stdout",
     "output_type": "stream",
     "text": [
      "True Fake:340\n",
      "True Real:122\n",
      "False Fake:56\n",
      "False Real:0\n",
      "---\n",
      "Accuracy: 0.8919\n",
      "Precision: 0.8586\n",
      "Recall: 1.0000\n",
      "AUC Score: 0.8427\n"
     ]
    }
   ],
   "source": [
    "print(f'True Fake:{true_fake}')\n",
    "print(f'True Real:{true_real}')\n",
    "print(f'False Fake:{false_fake}')\n",
    "print(f'False Real:{false_real}')\n",
    "print(f'---')\n",
    "print(f'Accuracy: {accuracy:.4f}')\n",
    "print(f'Precision: {precision:.4f}')\n",
    "print(f'Recall: {recall:.4f}')\n",
    "print(f'AUC Score: {auc:.4f}')"
   ]
  },
  {
   "attachments": {},
   "cell_type": "markdown",
   "metadata": {},
   "source": [
    "# SVM Classifier"
   ]
  },
  {
   "cell_type": "code",
   "execution_count": 14,
   "metadata": {},
   "outputs": [],
   "source": [
    "stream_predictions = []\n",
    "actual_class_train = []\n",
    "final_predictions = []\n",
    "\n",
    "for m, s, t in zip(m_train, s_train, t_train):\n",
    "    stream_predictions.append([m.get_score(), s.get_score(), t.get_score()])\n",
    "    actual_class_train.append(m.get_true_class())"
   ]
  },
  {
   "cell_type": "code",
   "execution_count": 15,
   "metadata": {},
   "outputs": [],
   "source": [
    "stream_testing = []\n",
    "actual_class_test = []\n",
    "\n",
    "for m, s, t in zip(mesonet_scores_test, srm_scores_test, temporal_scores_test):\n",
    "    stream_testing.append([m.get_score(), s.get_score(), t.get_score()])\n",
    "    actual_class_test.append(m.get_true_class())"
   ]
  },
  {
   "cell_type": "code",
   "execution_count": 16,
   "metadata": {},
   "outputs": [
    {
     "data": {
      "text/html": [
       "<style>#sk-container-id-1 {color: black;background-color: white;}#sk-container-id-1 pre{padding: 0;}#sk-container-id-1 div.sk-toggleable {background-color: white;}#sk-container-id-1 label.sk-toggleable__label {cursor: pointer;display: block;width: 100%;margin-bottom: 0;padding: 0.3em;box-sizing: border-box;text-align: center;}#sk-container-id-1 label.sk-toggleable__label-arrow:before {content: \"▸\";float: left;margin-right: 0.25em;color: #696969;}#sk-container-id-1 label.sk-toggleable__label-arrow:hover:before {color: black;}#sk-container-id-1 div.sk-estimator:hover label.sk-toggleable__label-arrow:before {color: black;}#sk-container-id-1 div.sk-toggleable__content {max-height: 0;max-width: 0;overflow: hidden;text-align: left;background-color: #f0f8ff;}#sk-container-id-1 div.sk-toggleable__content pre {margin: 0.2em;color: black;border-radius: 0.25em;background-color: #f0f8ff;}#sk-container-id-1 input.sk-toggleable__control:checked~div.sk-toggleable__content {max-height: 200px;max-width: 100%;overflow: auto;}#sk-container-id-1 input.sk-toggleable__control:checked~label.sk-toggleable__label-arrow:before {content: \"▾\";}#sk-container-id-1 div.sk-estimator input.sk-toggleable__control:checked~label.sk-toggleable__label {background-color: #d4ebff;}#sk-container-id-1 div.sk-label input.sk-toggleable__control:checked~label.sk-toggleable__label {background-color: #d4ebff;}#sk-container-id-1 input.sk-hidden--visually {border: 0;clip: rect(1px 1px 1px 1px);clip: rect(1px, 1px, 1px, 1px);height: 1px;margin: -1px;overflow: hidden;padding: 0;position: absolute;width: 1px;}#sk-container-id-1 div.sk-estimator {font-family: monospace;background-color: #f0f8ff;border: 1px dotted black;border-radius: 0.25em;box-sizing: border-box;margin-bottom: 0.5em;}#sk-container-id-1 div.sk-estimator:hover {background-color: #d4ebff;}#sk-container-id-1 div.sk-parallel-item::after {content: \"\";width: 100%;border-bottom: 1px solid gray;flex-grow: 1;}#sk-container-id-1 div.sk-label:hover label.sk-toggleable__label {background-color: #d4ebff;}#sk-container-id-1 div.sk-serial::before {content: \"\";position: absolute;border-left: 1px solid gray;box-sizing: border-box;top: 0;bottom: 0;left: 50%;z-index: 0;}#sk-container-id-1 div.sk-serial {display: flex;flex-direction: column;align-items: center;background-color: white;padding-right: 0.2em;padding-left: 0.2em;position: relative;}#sk-container-id-1 div.sk-item {position: relative;z-index: 1;}#sk-container-id-1 div.sk-parallel {display: flex;align-items: stretch;justify-content: center;background-color: white;position: relative;}#sk-container-id-1 div.sk-item::before, #sk-container-id-1 div.sk-parallel-item::before {content: \"\";position: absolute;border-left: 1px solid gray;box-sizing: border-box;top: 0;bottom: 0;left: 50%;z-index: -1;}#sk-container-id-1 div.sk-parallel-item {display: flex;flex-direction: column;z-index: 1;position: relative;background-color: white;}#sk-container-id-1 div.sk-parallel-item:first-child::after {align-self: flex-end;width: 50%;}#sk-container-id-1 div.sk-parallel-item:last-child::after {align-self: flex-start;width: 50%;}#sk-container-id-1 div.sk-parallel-item:only-child::after {width: 0;}#sk-container-id-1 div.sk-dashed-wrapped {border: 1px dashed gray;margin: 0 0.4em 0.5em 0.4em;box-sizing: border-box;padding-bottom: 0.4em;background-color: white;}#sk-container-id-1 div.sk-label label {font-family: monospace;font-weight: bold;display: inline-block;line-height: 1.2em;}#sk-container-id-1 div.sk-label-container {text-align: center;}#sk-container-id-1 div.sk-container {/* jupyter's `normalize.less` sets `[hidden] { display: none; }` but bootstrap.min.css set `[hidden] { display: none !important; }` so we also need the `!important` here to be able to override the default hidden behavior on the sphinx rendered scikit-learn.org. See: https://github.com/scikit-learn/scikit-learn/issues/21755 */display: inline-block !important;position: relative;}#sk-container-id-1 div.sk-text-repr-fallback {display: none;}</style><div id=\"sk-container-id-1\" class=\"sk-top-container\"><div class=\"sk-text-repr-fallback\"><pre>SVC(probability=True, random_state=0)</pre><b>In a Jupyter environment, please rerun this cell to show the HTML representation or trust the notebook. <br />On GitHub, the HTML representation is unable to render, please try loading this page with nbviewer.org.</b></div><div class=\"sk-container\" hidden><div class=\"sk-item\"><div class=\"sk-estimator sk-toggleable\"><input class=\"sk-toggleable__control sk-hidden--visually\" id=\"sk-estimator-id-1\" type=\"checkbox\" checked><label for=\"sk-estimator-id-1\" class=\"sk-toggleable__label sk-toggleable__label-arrow\">SVC</label><div class=\"sk-toggleable__content\"><pre>SVC(probability=True, random_state=0)</pre></div></div></div></div></div>"
      ],
      "text/plain": [
       "SVC(probability=True, random_state=0)"
      ]
     },
     "execution_count": 16,
     "metadata": {},
     "output_type": "execute_result"
    }
   ],
   "source": [
    "model = SVC(kernel='rbf', random_state=0,  probability=True)  \n",
    "model.fit(stream_predictions, actual_class_train) "
   ]
  },
  {
   "cell_type": "code",
   "execution_count": 17,
   "metadata": {},
   "outputs": [],
   "source": [
    "with open(SAVE_MODEL_PATH + 'svm.pkl', 'wb') as f:\n",
    "    pickle.dump(model, f)"
   ]
  },
  {
   "cell_type": "code",
   "execution_count": 18,
   "metadata": {},
   "outputs": [],
   "source": [
    "with open(SAVE_MODEL_PATH + 'svm.pkl', 'rb') as f:\n",
    "    model = pickle.load(f)"
   ]
  },
  {
   "cell_type": "code",
   "execution_count": 53,
   "metadata": {},
   "outputs": [],
   "source": [
    "final_predictions = model.predict(stream_testing)"
   ]
  },
  {
   "cell_type": "code",
   "execution_count": 54,
   "metadata": {},
   "outputs": [],
   "source": [
    "final_predictions_proba = model.predict_proba(stream_testing)"
   ]
  },
  {
   "cell_type": "code",
   "execution_count": 55,
   "metadata": {},
   "outputs": [],
   "source": [
    "final_predictions_decision_fn = model.decision_function(stream_testing)"
   ]
  },
  {
   "cell_type": "code",
   "execution_count": 56,
   "metadata": {},
   "outputs": [],
   "source": [
    "with open(TEST_SCORE_PATH + 'score_aggregation_svm.pkl', 'wb') as f:\n",
    "    pickle.dump(final_predictions, f)"
   ]
  },
  {
   "cell_type": "code",
   "execution_count": null,
   "metadata": {},
   "outputs": [],
   "source": [
    "with open(TEST_SCORE_PATH + 'score_aggregation_svm.pkl', 'rb') as f:\n",
    "    final_predictions = pickle.load(f)"
   ]
  },
  {
   "cell_type": "code",
   "execution_count": 57,
   "metadata": {},
   "outputs": [
    {
     "name": "stdout",
     "output_type": "stream",
     "text": [
      "              precision    recall  f1-score   support\n",
      "\n",
      "       fake/       0.93      1.00      0.96       340\n",
      "       real/       0.99      0.87      0.92       178\n",
      "\n",
      "    accuracy                           0.95       518\n",
      "   macro avg       0.96      0.93      0.94       518\n",
      "weighted avg       0.95      0.95      0.95       518\n",
      "\n"
     ]
    }
   ],
   "source": [
    "report = classification_report(actual_class_test, final_predictions)\n",
    "print(report)"
   ]
  },
  {
   "cell_type": "code",
   "execution_count": 62,
   "metadata": {},
   "outputs": [],
   "source": [
    "def metrics(actual, predicted):\n",
    "    m = keras.metrics.BinaryAccuracy()\n",
    "    m.update_state(actual, predicted)\n",
    "    print(f'Binary Accuracy - {m.result().numpy():.4f}')\n",
    "    \n",
    "    m = keras.metrics.Precision()\n",
    "    m.update_state(actual, predicted)\n",
    "    print(f'Precision - {m.result().numpy():.4f}')\n",
    "\n",
    "    m = keras.metrics.Recall()\n",
    "    m.update_state(actual, predicted)\n",
    "    print(f'Recall - {m.result().numpy():.4f}')\n",
    "\n",
    "    m = keras.metrics.AUC()\n",
    "    m.update_state(actual, predicted)\n",
    "    print(f'AUC - {m.result().numpy():.4f}')"
   ]
  },
  {
   "cell_type": "code",
   "execution_count": 63,
   "metadata": {},
   "outputs": [
    {
     "name": "stdout",
     "output_type": "stream",
     "text": [
      "Binary Accuracy - 0.9517\n",
      "Precision - 0.8652\n",
      "Recall - 0.9935\n",
      "AUC - 0.9637\n"
     ]
    }
   ],
   "source": [
    "pred = [0 if x == CLASS_FAKE else 1 for x in final_predictions]\n",
    "actual = [0 if x == CLASS_FAKE else 1 for x in actual_class_test]\n",
    "\n",
    "\n",
    "metrics(pred, actual)"
   ]
  },
  {
   "cell_type": "code",
   "execution_count": null,
   "metadata": {},
   "outputs": [],
   "source": []
  }
 ],
 "metadata": {
  "kernelspec": {
   "display_name": "venv",
   "language": "python",
   "name": "python3"
  },
  "language_info": {
   "codemirror_mode": {
    "name": "ipython",
    "version": 3
   },
   "file_extension": ".py",
   "mimetype": "text/x-python",
   "name": "python",
   "nbconvert_exporter": "python",
   "pygments_lexer": "ipython3",
   "version": "3.10.4"
  },
  "orig_nbformat": 4
 },
 "nbformat": 4,
 "nbformat_minor": 2
}
