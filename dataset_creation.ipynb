{
 "cells": [
  {
   "cell_type": "code",
   "execution_count": 1,
   "metadata": {},
   "outputs": [],
   "source": [
    "import os\n",
    "import shutil\n",
    "import random"
   ]
  },
  {
   "cell_type": "code",
   "execution_count": 2,
   "metadata": {},
   "outputs": [],
   "source": [
    "TOP_LEVEL = ['dataset_split', 'dataset_iframes', 'dataset_face', 'dataset_face_img', 'dataset_segments', 'dataset_raw', 'dataset_residuals']\n",
    "SPLIT = ['train_dataset', 'test_dataset', 'val_dataset']\n",
    "CLASS = ['fake', 'real']\n",
    "\n",
    "DATASET = ['celeb_df_v1']"
   ]
  },
  {
   "cell_type": "markdown",
   "metadata": {},
   "source": [
    "## Dataset directory setup"
   ]
  },
  {
   "cell_type": "markdown",
   "metadata": {},
   "source": [
    "**For Celeb-DF v1 Dataset**\n",
    "\n",
    "Create a 'dataset_original' folder inside the 'celeb_df_v1' folder. Copy the three dataset folders: Celeb-real, Celeb-synthesis, and YouTube-real inside this folder, then run the below cell to create the intermediate dataset folders."
   ]
  },
  {
   "cell_type": "code",
   "execution_count": null,
   "metadata": {},
   "outputs": [],
   "source": [
    "for dataset in DATASET:\n",
    "    for top_level in TOP_LEVEL:\n",
    "        for split in SPLIT:\n",
    "            for class_dir in CLASS:\n",
    "                dir = dataset + '/' + top_level + '/' + split + '/' + class_dir + '/'\n",
    "\n",
    "                os.makedirs(dir, exist_ok=True) "
   ]
  },
  {
   "cell_type": "markdown",
   "metadata": {},
   "source": [
    "# Train, Test, Val Split"
   ]
  },
  {
   "cell_type": "code",
   "execution_count": null,
   "metadata": {},
   "outputs": [],
   "source": [
    "def create_test_dataset(dataset_path, split_rule_file):\n",
    "    file = open(dataset_path + '/' + split_rule_file)\n",
    "\n",
    "    for line in file:\n",
    "        [vid_class, vid_path] = line.split()\n",
    "        [_, filename] = vid_path.split('/')\n",
    "\n",
    "        # Class 0 -> Fake, Class 1 -> Real\n",
    "        class_dir = 'real/' if int(vid_class) == 1 else 'fake/'\n",
    "\n",
    "        org_path = dataset_path + '/' + 'dataset_original/' + vid_path\n",
    "        new_path = dataset_path + '/' + 'dataset_split/' + 'test_dataset/' + class_dir + filename\n",
    "\n",
    "        shutil.move(org_path, new_path)"
   ]
  },
  {
   "cell_type": "code",
   "execution_count": null,
   "metadata": {},
   "outputs": [],
   "source": [
    "def create_val_dataset(dataset_path, split_rule_file=None):\n",
    "    pass"
   ]
  },
  {
   "cell_type": "code",
   "execution_count": null,
   "metadata": {},
   "outputs": [],
   "source": [
    "create_test_dataset('celeb_df_v1', 'List_of_testing_videos.txt')"
   ]
  }
 ],
 "metadata": {
  "kernelspec": {
   "display_name": "Python 3",
   "language": "python",
   "name": "python3"
  },
  "language_info": {
   "codemirror_mode": {
    "name": "ipython",
    "version": 3
   },
   "file_extension": ".py",
   "mimetype": "text/x-python",
   "name": "python",
   "nbconvert_exporter": "python",
   "pygments_lexer": "ipython3",
   "version": "3.10.4"
  },
  "orig_nbformat": 4
 },
 "nbformat": 4,
 "nbformat_minor": 2
}
