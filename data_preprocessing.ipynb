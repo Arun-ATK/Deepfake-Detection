{
 "cells": [
  {
   "attachments": {},
   "cell_type": "markdown",
   "metadata": {},
   "source": [
    "# Libraries Used"
   ]
  },
  {
   "attachments": {},
   "cell_type": "markdown",
   "metadata": {},
   "source": [
    "* ffmpeg-python\n",
    "* av"
   ]
  },
  {
   "attachments": {},
   "cell_type": "markdown",
   "metadata": {},
   "source": [
    "# Imports & Globals"
   ]
  },
  {
   "cell_type": "code",
   "execution_count": 2,
   "metadata": {},
   "outputs": [],
   "source": [
    "import numpy as np\n",
    "import ffmpeg\n",
    "import av\n",
    "import os"
   ]
  },
  {
   "cell_type": "code",
   "execution_count": 3,
   "metadata": {},
   "outputs": [],
   "source": [
    "DS_ORG = './dataset_original/'\n",
    "DS_IFRAME = './dataset_IFrames/'\n",
    "DS_FACE = './dataset_face/'\n",
    "DS_FINAL = './dataset_final/'\n",
    "\n",
    "CELEB_REAL = 'celeb-real/'\n",
    "CELEB_FAKE = 'celeb-synthesis/'\n",
    "YT_REAL = 'YouTube-real/'"
   ]
  },
  {
   "attachments": {},
   "cell_type": "markdown",
   "metadata": {},
   "source": [
    "# I-Frame Extraction"
   ]
  },
  {
   "attachments": {},
   "cell_type": "markdown",
   "metadata": {},
   "source": [
    "## Testing Logic"
   ]
  },
  {
   "cell_type": "code",
   "execution_count": null,
   "metadata": {},
   "outputs": [],
   "source": [
    "test_vid = av.open('dataset_original/Celeb-real/id0_0000.mp4')\n",
    "\n",
    "for packet in test_vid.demux():\n",
    "    for frame in packet.decode():\n",
    "        print(f'{frame.pict_type} - {frame.key_frame}')"
   ]
  },
  {
   "cell_type": "code",
   "execution_count": 26,
   "metadata": {},
   "outputs": [],
   "source": [
    "test_input = av.open('dataset_original/Celeb-real/id0_0000.mp4')\n",
    "test_output = av.open('dataset_IFrames/id0_0000.mp4', 'w')\n",
    "\n",
    "in_stream = test_input.streams.video[0]\n",
    "in_stream.codec_context.skip_frame = \"NONKEY\"\n",
    "\n",
    "out_stream = test_output.add_stream(template=in_stream)\n",
    "\n",
    "for packet in test_input.demux(in_stream):\n",
    "    if packet.dts is None:\n",
    "        continue\n",
    "\n",
    "    if packet.is_keyframe:\n",
    "        packet.stream = out_stream\n",
    "        test_output.mux(packet)\n",
    "\n",
    "test_input.close()\n",
    "test_output.close()"
   ]
  },
  {
   "cell_type": "code",
   "execution_count": 6,
   "metadata": {},
   "outputs": [],
   "source": [
    "count = 0\n",
    "for video in os.listdir(DS_ORG + CELEB_REAL):\n",
    "    count += 1\n",
    "    if (count == 10):\n",
    "        break\n",
    "\n",
    "    input_vid = av.open(DS_ORG + CELEB_REAL + video)\n",
    "    output_vid = av.open(DS_IFRAME + CELEB_REAL + video, 'w')\n",
    "\n",
    "    in_stream = input_vid.streams.video[0]\n",
    "    in_stream.codec_context.skip_frame = \"NONKEY\"\n",
    "\n",
    "    out_stream = output_vid.add_stream(template=in_stream)\n",
    "\n",
    "    for packet in input_vid.demux(in_stream):\n",
    "        if packet.dts is None:\n",
    "            continue\n",
    "    \n",
    "        if packet.is_keyframe:\n",
    "            packet.stream = out_stream\n",
    "            output_vid.mux(packet)\n",
    "\n",
    "    input_vid.close()\n",
    "    output_vid.close()\n"
   ]
  },
  {
   "cell_type": "code",
   "execution_count": null,
   "metadata": {},
   "outputs": [],
   "source": []
  }
 ],
 "metadata": {
  "kernelspec": {
   "display_name": "Python 3",
   "language": "python",
   "name": "python3"
  },
  "language_info": {
   "codemirror_mode": {
    "name": "ipython",
    "version": 3
   },
   "file_extension": ".py",
   "mimetype": "text/x-python",
   "name": "python",
   "nbconvert_exporter": "python",
   "pygments_lexer": "ipython3",
   "version": "3.10.4"
  },
  "orig_nbformat": 4,
  "vscode": {
   "interpreter": {
    "hash": "634b966a65970263d64a39f28ca9ed21ee1352c353852874a3701cf42e66fa53"
   }
  }
 },
 "nbformat": 4,
 "nbformat_minor": 2
}
