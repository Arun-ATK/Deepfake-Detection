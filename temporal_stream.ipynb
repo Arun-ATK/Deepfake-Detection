{
  "cells": [
    {
      "cell_type": "code",
      "execution_count": 1,
      "metadata": {
        "id": "O6TM7wgJaBKZ"
      },
      "outputs": [
        {
          "name": "stderr",
          "output_type": "stream",
          "text": [
            "2023-04-06 07:15:18.901581: I tensorflow/core/platform/cpu_feature_guard.cc:193] This TensorFlow binary is optimized with oneAPI Deep Neural Network Library (oneDNN) to use the following CPU instructions in performance-critical operations:  AVX2 FMA\n",
            "To enable them in other operations, rebuild TensorFlow with the appropriate compiler flags.\n",
            "2023-04-06 07:15:58.342726: W tensorflow/compiler/xla/stream_executor/platform/default/dso_loader.cc:64] Could not load dynamic library 'libcudart.so.11.0'; dlerror: libcudart.so.11.0: cannot open shared object file: No such file or directory\n",
            "2023-04-06 07:15:58.343055: I tensorflow/compiler/xla/stream_executor/cuda/cudart_stub.cc:29] Ignore above cudart dlerror if you do not have a GPU set up on your machine.\n",
            "2023-04-06 07:17:55.140906: W tensorflow/compiler/xla/stream_executor/platform/default/dso_loader.cc:64] Could not load dynamic library 'libnvinfer.so.7'; dlerror: libnvinfer.so.7: cannot open shared object file: No such file or directory\n",
            "2023-04-06 07:17:55.141343: W tensorflow/compiler/xla/stream_executor/platform/default/dso_loader.cc:64] Could not load dynamic library 'libnvinfer_plugin.so.7'; dlerror: libnvinfer_plugin.so.7: cannot open shared object file: No such file or directory\n",
            "2023-04-06 07:17:55.141463: W tensorflow/compiler/tf2tensorrt/utils/py_utils.cc:38] TF-TRT Warning: Cannot dlopen some TensorRT libraries. If you would like to use Nvidia GPU with TensorRT, please make sure the missing libraries mentioned above are installed properly.\n"
          ]
        }
      ],
      "source": [
        "import tensorflow as tf\n",
        "import keras\n",
        "from tensorflow.keras import datasets, models, layers\n",
        "\n",
        "from keras.layers import Dense, Conv2D,  MaxPool2D, Flatten, GlobalAveragePooling2D,  BatchNormalization, Layer, Add\n",
        "from keras.models import Sequential\n",
        "from keras.models import Model\n",
        "from keras.optimizers import Adam\n",
        "from keras.callbacks import LearningRateScheduler\n",
        "from keras.preprocessing import image\n",
        "\n",
        "import os\n",
        "import av\n",
        "import shutil\n",
        "import imghdr\n",
        "from PIL import Image\n",
        "import pickle\n",
        "import numpy as np\n",
        "\n",
        "from scipy.special import softmax"
      ]
    },
    {
      "cell_type": "code",
      "execution_count": 2,
      "metadata": {
        "id": "63FVafT9agmz"
      },
      "outputs": [],
      "source": [
        "DS_CDFV1 = 'celeb_df_v1/'\n",
        "DS_CDFV2 = 'celeb_df_v2/'\n",
        "\n",
        "DS_ORGINAL = 'dataset_original/'\n",
        "DS_SPLIT = 'dataset_split/'\n",
        "DS_IFRAMES = 'dataset_iframes/'\n",
        "DS_FACE = 'dataset_face/'\n",
        "DS_FACE_IMG = 'dataset_face_img/'\n",
        "DS_SRM_SNIPPETS = 'dataset_srm_snippets_5/'\n",
        "DS_SEGMENTS = 'dataset_segments/'\n",
        "DS_RAW = 'dataset_raw/'\n",
        "DS_RESIDUALS = 'dataset_residuals/'\n",
        "DS_TEMPORAL = 'dataset_temporal/'\n",
        "\n",
        "MODELS = 'models/'\n",
        "\n",
        "\n",
        "SEG_1 = 'seg_1/'\n",
        "SEG_2 = 'seg_2/'\n",
        "SEG_3 = 'seg_3/'\n",
        "SEG_4 = 'seg_4/'\n",
        "SEG_5 = 'seg_5/'\n",
        "\n",
        "SEG = ['seg_1_', 'seg_2_', 'seg_3_', 'seg_4_', 'seg_5_']\n",
        "\n",
        "DS_TRAIN = 'train_dataset/'\n",
        "DS_TEST = 'test_dataset/'\n",
        "DS_VAL = 'val_dataset/'\n",
        "\n",
        "CLASS_FAKE = 'fake/'\n",
        "CLASS_REAL = 'real/'\n",
        "\n",
        "\n",
        "TOP_LEVEL_1 = [DS_SPLIT, DS_IFRAMES, DS_FACE, DS_FACE_IMG, DS_SRM_SNIPPETS]\n",
        "TOP_LEVEL_2 = [DS_SEGMENTS, DS_RAW, DS_RESIDUALS]\n",
        "SEGMENTS = [SEG_1, SEG_2, SEG_3, SEG_4, SEG_5]\n",
        "SPLIT = [DS_TRAIN, DS_TEST, DS_VAL]\n",
        "CLASS = [CLASS_REAL, CLASS_FAKE]\n",
        "\n",
        "DATASET = [DS_CDFV1, DS_CDFV2]"
      ]
    },
    {
      "cell_type": "code",
      "execution_count": null,
      "metadata": {
        "id": "rIbafRX_Jyl5"
      },
      "outputs": [],
      "source": [
        "os.makedirs(MODELS, exist_ok=True)"
      ]
    },
    {
      "cell_type": "code",
      "execution_count": 1,
      "metadata": {
        "colab": {
          "base_uri": "https://localhost:8080/"
        },
        "id": "g6uBxtM6J5Le",
        "outputId": "eaefb10c-b5d3-4eb0-c1d6-4483d046aaa5"
      },
      "outputs": [
        {
          "name": "stdout",
          "output_type": "stream",
          "text": [
            "Mounted at /content/drive\n"
          ]
        }
      ],
      "source": [
        "from google.colab import drive\n",
        "drive.mount('/content/drive')"
      ]
    },
    {
      "cell_type": "code",
      "execution_count": null,
      "metadata": {
        "id": "MNywJxIFKkl-"
      },
      "outputs": [],
      "source": [
        "%pip install av"
      ]
    },
    {
      "cell_type": "code",
      "execution_count": 14,
      "metadata": {
        "colab": {
          "base_uri": "https://localhost:8080/"
        },
        "id": "2SPoAZk6Kz4V",
        "outputId": "68704b8f-2761-456f-a21e-ef1437b65494"
      },
      "outputs": [
        {
          "name": "stdout",
          "output_type": "stream",
          "text": [
            "/content/drive/MyDrive/FYP\n"
          ]
        }
      ],
      "source": [
        "%cd drive/MyDrive/FYP"
      ]
    },
    {
      "cell_type": "code",
      "execution_count": 15,
      "metadata": {
        "colab": {
          "base_uri": "https://localhost:8080/",
          "height": 35
        },
        "id": "RSulMt9JLLD8",
        "outputId": "d8c65006-a11f-4530-c707-25d1dcaf5f75"
      },
      "outputs": [
        {
          "data": {
            "application/vnd.google.colaboratory.intrinsic+json": {
              "type": "string"
            },
            "text/plain": [
              "'/content/drive/MyDrive/FYP'"
            ]
          },
          "execution_count": 15,
          "metadata": {},
          "output_type": "execute_result"
        }
      ],
      "source": [
        "%pwd"
      ]
    },
    {
      "cell_type": "markdown",
      "metadata": {
        "id": "obn4t70mJyl6"
      },
      "source": [
        "# Frame Extraction"
      ]
    },
    {
      "cell_type": "code",
      "execution_count": null,
      "metadata": {
        "id": "0oafFniYJyl7"
      },
      "outputs": [],
      "source": [
        "for dataset in DATASET:\n",
        "    for split in SPLIT:\n",
        "        if split is DS_TEST:\n",
        "            for segment in SEGMENTS:\n",
        "                for label_class in CLASS:\n",
        "                    dir = dataset + DS_TEMPORAL + split + segment + label_class\n",
        "                    os.makedirs(dir, exist_ok=True) \n",
        "        else:\n",
        "            for label_class in CLASS:\n",
        "                dir = dataset + DS_TEMPORAL + split + label_class\n",
        "                os.makedirs(dir, exist_ok=True)"
      ]
    },
    {
      "cell_type": "code",
      "execution_count": null,
      "metadata": {
        "id": "om2ecQOfJyl8"
      },
      "outputs": [],
      "source": [
        "# List of testing videos\n",
        "for src_dir in DATASET:\n",
        "    for label, class_label in enumerate(CLASS):\n",
        "        with open(src_dir + DS_TEMPORAL + 'testing_videos.txt', 'a+') as f:\n",
        "            for file in os.listdir(src_dir + DS_SPLIT + DS_TEST + class_label):\n",
        "                f.write(f'{file} {label}\\n')"
      ]
    },
    {
      "cell_type": "markdown",
      "metadata": {
        "id": "wwNYCNmlJyl9"
      },
      "source": [
        "### Test Dataset"
      ]
    },
    {
      "cell_type": "code",
      "execution_count": null,
      "metadata": {
        "id": "rDbgcNZBJyl9"
      },
      "outputs": [],
      "source": [
        "def extract_frames_test(ds, dest_dir, segment, split, label, file):\n",
        "    src_dir = ds + DS_RESIDUALS + segment + split + label\n",
        "\n",
        "    for index, curr_segment in enumerate(SEGMENTS):\n",
        "        if curr_segment > segment:\n",
        "            break\n",
        "\n",
        "        residual_file = src_dir + SEG[index] + file\n",
        "        os.makedirs(dest_dir + SEGMENTS[index], exist_ok=True)\n",
        "\n",
        "        vid = av.open(residual_file)\n",
        "\n",
        "        for count, frame in enumerate(vid.decode()):\n",
        "            image = frame.to_image()\n",
        "            image.save(f'{dest_dir}{SEGMENTS[index]}frame_{count}.jpg')"
      ]
    },
    {
      "cell_type": "code",
      "execution_count": null,
      "metadata": {
        "id": "0QeMcQemJyl-"
      },
      "outputs": [],
      "source": [
        "def extract_segment_frames(ds, segment):\n",
        "    file = open(ds + DS_TEMPORAL + 'testing_videos.txt', 'r')\n",
        "    videos = file.readlines()\n",
        "\n",
        "    for video in videos:\n",
        "        [file, label] = video.split(' ')\n",
        "        label = CLASS_REAL if int(label) == 0 else CLASS_FAKE\n",
        "        \n",
        "        dest_dir = ds + DS_TEMPORAL + DS_TEST + segment + label + '/' + file +'/'\n",
        "        os.makedirs(dest_dir, exist_ok=True)\n",
        "\n",
        "        extract_frames_test(ds, dest_dir, segment, DS_TEST, label, file)    "
      ]
    },
    {
      "cell_type": "code",
      "execution_count": null,
      "metadata": {
        "id": "gdbr_uXLJyl_"
      },
      "outputs": [],
      "source": [
        "extract_segment_frames(DS_CDFV1, SEG_2)"
      ]
    },
    {
      "cell_type": "markdown",
      "metadata": {
        "id": "i_LdKstcJyl_"
      },
      "source": [
        "### Training and Validation Dataset"
      ]
    },
    {
      "cell_type": "code",
      "execution_count": null,
      "metadata": {
        "id": "YvRbVhvXJymA"
      },
      "outputs": [],
      "source": [
        "def extract_frames_train_val(ds):\n",
        "    for split in SPLIT:\n",
        "        if split == DS_TEST:\n",
        "            continue\n",
        "        else:\n",
        "            for label_class in CLASS:\n",
        "                src_dir = ds + DS_RESIDUALS + SEG_1 + split + label_class\n",
        "                dest_dir = ds + DS_TEMPORAL + split + label_class\n",
        "            \n",
        "                for id, video in enumerate(os.listdir(src_dir)):\n",
        "                    vid = av.open(src_dir + video)\n",
        "\n",
        "                    for count, frame in enumerate(vid.decode()):\n",
        "                        image = frame.to_image()\n",
        "                        image.save(f'{dest_dir}frame_{count}_vid_{id}.jpg')"
      ]
    },
    {
      "cell_type": "code",
      "execution_count": null,
      "metadata": {
        "id": "xd8ny7OCJymA"
      },
      "outputs": [],
      "source": [
        "extract_frames_train_val(DS_CDFV1)"
      ]
    },
    {
      "cell_type": "markdown",
      "metadata": {
        "id": "ao5ExoVSa3bT"
      },
      "source": [
        "# ResNet-18 Model"
      ]
    },
    {
      "attachments": {},
      "cell_type": "markdown",
      "metadata": {},
      "source": [
        "### Testing logic"
      ]
    },
    {
      "cell_type": "code",
      "execution_count": 3,
      "metadata": {
        "id": "TaBcyV3NarBy"
      },
      "outputs": [],
      "source": [
        "class ResnetBlock(Model):\n",
        "\n",
        "    def __init__(self, channels, input_size):\n",
        "        super().__init__()\n",
        "\n",
        "        self.conv_1 = Conv2D(input_shape=input_size, filters=channels, kernel_size=3, padding=\"same\")\n",
        "        \n",
        "        self.bn_1 = BatchNormalization()\n",
        "\n",
        "        self.conv_2 = Conv2D(input_shape=input_size, filters=channels, kernel_size=3, padding=\"same\")\n",
        "        \n",
        "        self.bn_2 = BatchNormalization()\n",
        "\n",
        "    def call(self, inputs):\n",
        "        out = self.conv_1()\n",
        "        out = self.bn_1(out)\n",
        "        out = tf.nn.relu(out)\n",
        "        out = self.conv_2(out)\n",
        "        out = self.bn_2(out)\n",
        "        out = tf.nn.relu(out)\n",
        "\n",
        "        return out"
      ]
    },
    {
      "cell_type": "code",
      "execution_count": 4,
      "metadata": {
        "id": "nkGQqOjebWfz"
      },
      "outputs": [],
      "source": [
        "class ResNet18(Model):\n",
        "\n",
        "    def __init__(self, num_classes, input_size, **kwargs):\n",
        "        super().__init__(**kwargs)\n",
        "\n",
        "        self.conv_1 = Conv2D(input_shape=input_size, filters=64, kernel_size=(7, 7), strides=2,\n",
        "                             padding=\"same\", kernel_initializer=\"he_normal\")\n",
        "        \n",
        "        self.init_bn = BatchNormalization()\n",
        "\n",
        "        self.pool_2 = MaxPool2D(pool_size=(3, 3), strides=2, padding=\"same\")\n",
        "\n",
        "        self.res_1_1 = ResnetBlock(64, (56, 56, 64))\n",
        "        self.res_1_2 = ResnetBlock(64, (56, 56, 64))\n",
        "\n",
        "        self.res_2_1 = ResnetBlock(128, (28, 28, 128))\n",
        "        self.res_2_2 = ResnetBlock(128, (28, 28, 128))\n",
        "\n",
        "        self.res_3_1 = ResnetBlock(256, (14, 14, 256))\n",
        "        self.res_3_2 = ResnetBlock(256, (14, 14, 256))\n",
        "\n",
        "        self.res_4_1 = ResnetBlock(512, (7, 7, 512))\n",
        "        self.res_4_2 = ResnetBlock(512, (7, 7, 512))\n",
        "\n",
        "        self.avg_pool = GlobalAveragePooling2D()\n",
        "        self.flat = Flatten()\n",
        "        self.fc = Dense(num_classes, activation=\"softmax\")\n",
        "\n",
        "    def call(self, input_size):\n",
        "        out = self.conv_1()\n",
        "        out = self.init_bn(out)\n",
        "        out = tf.nn.relu(out)\n",
        "        out = self.pool_2(out)\n",
        "\n",
        "        for res_block in [self.res_1_1, self.res_1_2, self.res_2_1, self.res_2_2, self.res_3_1, self.res_3_2, self.res_4_1, self.res_4_2]:\n",
        "            out = res_block(out)\n",
        "\n",
        "        out = self.avg_pool(out)\n",
        "        out = self.flat(out)\n",
        "        out = self.fc(out)\n",
        "        \n",
        "        return out"
      ]
    },
    {
      "attachments": {},
      "cell_type": "markdown",
      "metadata": {},
      "source": [
        "### Resnet-18 architecture"
      ]
    },
    {
      "cell_type": "code",
      "execution_count": 27,
      "metadata": {},
      "outputs": [],
      "source": [
        "def resnet_18(input_size, num_classes):\n",
        "    model = keras.Sequential()\n",
        "\n",
        "    # layer 1\n",
        "    model.add(Conv2D(input_shape=input_size, filters=64, kernel_size=7, strides=2, padding=\"same\")) \n",
        "    model.add(BatchNormalization())\n",
        "    model.add(MaxPool2D(pool_size=(3, 3), strides=2, padding=\"same\"))\n",
        "    \n",
        "    # Resblock 1\n",
        "    model.add(Conv2D(input_shape=(112, 112, 64), filters=64, kernel_size=3, padding=\"same\"))\n",
        "    model.add(BatchNormalization()) \n",
        "    model.add(Conv2D(input_shape=(112, 112, 64), filters=64, kernel_size=3, padding=\"same\"))\n",
        "    model.add(BatchNormalization())\n",
        "\n",
        "    # Resblock 2\n",
        "    model.add(Conv2D(input_shape=(56, 56, 64), filters=128, kernel_size=3, padding=\"same\"))\n",
        "    model.add(BatchNormalization())  \n",
        "    model.add(Conv2D(input_shape=(56, 56, 64), filters=128, kernel_size=1, strides=2, padding=\"same\")) # downsample\n",
        "    model.add(Conv2D(input_shape=(56, 56, 64), filters=128, kernel_size=3, padding=\"same\"))\n",
        "    model.add(BatchNormalization())\n",
        "\n",
        "    # Resblock 3\n",
        "    model.add(Conv2D(input_shape=(28, 28, 128), filters=256, kernel_size=3, padding=\"same\"))\n",
        "    model.add(BatchNormalization())  \n",
        "    model.add(Conv2D(input_shape=(28, 28, 128), filters=256, kernel_size=1, strides=2, padding=\"same\")) # downsample\n",
        "    model.add(Conv2D(input_shape=(28, 28, 128), filters=256, kernel_size=3, padding=\"same\"))\n",
        "    model.add(BatchNormalization())\n",
        "\n",
        "    # Resblock 4\n",
        "    model.add(Conv2D(input_shape=(14, 14, 256), filters=512, kernel_size=3, padding=\"same\"))\n",
        "    model.add(BatchNormalization())  \n",
        "    model.add(Conv2D(input_shape=(14, 14, 256), filters=512, kernel_size=1, strides=2, padding=\"same\")) # downsample\n",
        "    model.add(Conv2D(input_shape=(14, 14, 256), filters=512, kernel_size=3, padding=\"same\"))\n",
        "    model.add(BatchNormalization())\n",
        "\n",
        "    # Fully connected layer\n",
        "    model.add(GlobalAveragePooling2D())\n",
        "    model.add(Flatten())\n",
        "    model.add(Dense(num_classes, activation=\"softmax\"))\n",
        "\n",
        "    return model"
      ]
    },
    {
      "cell_type": "code",
      "execution_count": 29,
      "metadata": {
        "colab": {
          "base_uri": "https://localhost:8080/"
        },
        "id": "odnGR1kkbrYs",
        "outputId": "2d323d08-757d-4883-bb70-22948881d1a8"
      },
      "outputs": [
        {
          "name": "stdout",
          "output_type": "stream",
          "text": [
            "Model: \"sequential_10\"\n",
            "_________________________________________________________________\n",
            " Layer (type)                Output Shape              Param #   \n",
            "=================================================================\n",
            " conv2d_158 (Conv2D)         (None, 112, 112, 64)      9472      \n",
            "                                                                 \n",
            " batch_normalization_141 (Ba  (None, 112, 112, 64)     256       \n",
            " tchNormalization)                                               \n",
            "                                                                 \n",
            " max_pooling2d_13 (MaxPoolin  (None, 56, 56, 64)       0         \n",
            " g2D)                                                            \n",
            "                                                                 \n",
            " conv2d_159 (Conv2D)         (None, 56, 56, 64)        36928     \n",
            "                                                                 \n",
            " batch_normalization_142 (Ba  (None, 56, 56, 64)       256       \n",
            " tchNormalization)                                               \n",
            "                                                                 \n",
            " conv2d_160 (Conv2D)         (None, 56, 56, 64)        36928     \n",
            "                                                                 \n",
            " batch_normalization_143 (Ba  (None, 56, 56, 64)       256       \n",
            " tchNormalization)                                               \n",
            "                                                                 \n",
            " conv2d_161 (Conv2D)         (None, 56, 56, 128)       73856     \n",
            "                                                                 \n",
            " batch_normalization_144 (Ba  (None, 56, 56, 128)      512       \n",
            " tchNormalization)                                               \n",
            "                                                                 \n",
            " conv2d_162 (Conv2D)         (None, 28, 28, 128)       16512     \n",
            "                                                                 \n",
            " conv2d_163 (Conv2D)         (None, 28, 28, 128)       147584    \n",
            "                                                                 \n",
            " batch_normalization_145 (Ba  (None, 28, 28, 128)      512       \n",
            " tchNormalization)                                               \n",
            "                                                                 \n",
            " conv2d_164 (Conv2D)         (None, 28, 28, 256)       295168    \n",
            "                                                                 \n",
            " batch_normalization_146 (Ba  (None, 28, 28, 256)      1024      \n",
            " tchNormalization)                                               \n",
            "                                                                 \n",
            " conv2d_165 (Conv2D)         (None, 14, 14, 256)       65792     \n",
            "                                                                 \n",
            " conv2d_166 (Conv2D)         (None, 14, 14, 256)       590080    \n",
            "                                                                 \n",
            " batch_normalization_147 (Ba  (None, 14, 14, 256)      1024      \n",
            " tchNormalization)                                               \n",
            "                                                                 \n",
            " conv2d_167 (Conv2D)         (None, 14, 14, 512)       1180160   \n",
            "                                                                 \n",
            " batch_normalization_148 (Ba  (None, 14, 14, 512)      2048      \n",
            " tchNormalization)                                               \n",
            "                                                                 \n",
            " conv2d_168 (Conv2D)         (None, 7, 7, 512)         262656    \n",
            "                                                                 \n",
            " conv2d_169 (Conv2D)         (None, 7, 7, 512)         2359808   \n",
            "                                                                 \n",
            " batch_normalization_149 (Ba  (None, 7, 7, 512)        2048      \n",
            " tchNormalization)                                               \n",
            "                                                                 \n",
            " global_average_pooling2d_13  (None, 512)              0         \n",
            "  (GlobalAveragePooling2D)                                       \n",
            "                                                                 \n",
            " flatten_13 (Flatten)        (None, 512)               0         \n",
            "                                                                 \n",
            " dense_13 (Dense)            (None, 2)                 1026      \n",
            "                                                                 \n",
            "=================================================================\n",
            "Total params: 5,083,906\n",
            "Trainable params: 5,079,938\n",
            "Non-trainable params: 3,968\n",
            "_________________________________________________________________\n"
          ]
        }
      ],
      "source": [
        "input_size = (224, 224, 3)\n",
        "num_classes = 2\n",
        "\n",
        "model = resnet_18(input_size, num_classes)\n",
        "\n",
        "lr_schedule = tf.keras.optimizers.schedules.ExponentialDecay(\n",
        "    0.001,\n",
        "    decay_steps = 10,\n",
        "    decay_rate = 0.1,\n",
        "    staircase = False)\n",
        "\n",
        "model.compile(optimizer = Adam(learning_rate = lr_schedule), \n",
        "              loss = 'categorical_crossentropy', \n",
        "              metrics = [keras.metrics.CategoricalAccuracy(), \n",
        "                         keras.metrics.Precision(), \n",
        "                         keras.metrics.Recall(),\n",
        "                         keras.metrics.AUC()])\n",
        "model.summary()"
      ]
    },
    {
      "cell_type": "markdown",
      "metadata": {
        "id": "IsfauEloJymD"
      },
      "source": [
        "# Training"
      ]
    },
    {
      "cell_type": "code",
      "execution_count": 30,
      "metadata": {
        "id": "Jue8oRknJymD"
      },
      "outputs": [],
      "source": [
        "def get_train_val_dataset(train_src, val_src):\n",
        "\n",
        "  train_ds = keras.utils.image_dataset_from_directory(\n",
        "        directory = train_src,\n",
        "        labels = 'inferred',\n",
        "        label_mode = 'categorical',\n",
        "        batch_size = 32,\n",
        "        image_size = (224, 224),\n",
        "        color_mode = 'rgb',\n",
        "        shuffle = True,\n",
        "        seed = 1\n",
        "    )\n",
        "\n",
        "  for data, labels in train_ds.take(1):\n",
        "    print(data.shape)\n",
        "\n",
        "  val_ds = keras.utils.image_dataset_from_directory(\n",
        "        directory = val_src,\n",
        "        labels = 'inferred',\n",
        "        label_mode = 'categorical',\n",
        "        batch_size = 32,\n",
        "        image_size = (224, 224),\n",
        "        color_mode = 'rgb',\n",
        "        shuffle = True,\n",
        "        seed = 1\n",
        "    )\n",
        "\n",
        "  for data, labels in val_ds.take(1):\n",
        "    print(data.shape)\n",
        "\n",
        "  return train_ds, val_ds"
      ]
    },
    {
      "cell_type": "code",
      "execution_count": 31,
      "metadata": {
        "id": "z9iV8N_CJymD"
      },
      "outputs": [],
      "source": [
        "train_src = DS_CDFV1 + DS_TEMPORAL + DS_TRAIN\n",
        "val_src = DS_CDFV1 + DS_TEMPORAL + DS_VAL"
      ]
    },
    {
      "cell_type": "code",
      "execution_count": 32,
      "metadata": {
        "id": "j4ZGaA6hJymE",
        "outputId": "c6153bad-40ee-4190-976c-f0a15de2fa3a"
      },
      "outputs": [
        {
          "name": "stdout",
          "output_type": "stream",
          "text": [
            "Found 359405 files belonging to 2 classes.\n",
            "(32, 224, 224, 3)\n",
            "Found 89167 files belonging to 2 classes.\n",
            "(32, 224, 224, 3)\n"
          ]
        }
      ],
      "source": [
        "train_ds, val_ds = get_train_val_dataset(train_src, val_src)"
      ]
    },
    {
      "cell_type": "code",
      "execution_count": null,
      "metadata": {},
      "outputs": [],
      "source": [
        "# Load from checkpoint (if exists)\n",
        "try:\n",
        "    saved_model = keras.models.load_model(MODELS + 'temporal_stream')\n",
        "    model = saved_model\n",
        "\n",
        "except IOError:\n",
        "    pass"
      ]
    },
    {
      "cell_type": "code",
      "execution_count": 33,
      "metadata": {
        "id": "nacyTfRYJymE"
      },
      "outputs": [],
      "source": [
        "max_epochs = 1"
      ]
    },
    {
      "cell_type": "code",
      "execution_count": null,
      "metadata": {
        "id": "mAbgxmECJymF",
        "outputId": "3320398e-9281-4585-da07-c8e366584a2c"
      },
      "outputs": [],
      "source": [
        "history = model.fit(train_ds, \n",
        "          epochs = max_epochs, \n",
        "          validation_data = val_ds,\n",
        "          callbacks = keras.callbacks.ModelCheckpoint(MODELS + 'temporal_stream'),\n",
        "          verbose = 1)"
      ]
    },
    {
      "cell_type": "code",
      "execution_count": null,
      "metadata": {
        "id": "qsJEDGibJymF"
      },
      "outputs": [],
      "source": [
        "with open(MODELS + '/history', 'wb') as f:\n",
        "    pickle.dump(history, f)"
      ]
    },
    {
      "cell_type": "code",
      "execution_count": null,
      "metadata": {
        "id": "XtX9x7EIJymF"
      },
      "outputs": [],
      "source": [
        "with open(MODELS + '/history', 'rb') as f:\n",
        "    history = pickle.load(f)"
      ]
    },
    {
      "cell_type": "markdown",
      "metadata": {
        "id": "NNBqrwEzJymG"
      },
      "source": [
        "# Testing"
      ]
    },
    {
      "cell_type": "code",
      "execution_count": null,
      "metadata": {
        "id": "p_MRodBtJymG"
      },
      "outputs": [],
      "source": [
        "# Load from checkpoint (if exists)\n",
        "try:\n",
        "    saved_model = keras.models.load_model(MODELS + 'temporal_stream')\n",
        "    model = saved_model\n",
        "\n",
        "except IOError:\n",
        "    pass"
      ]
    },
    {
      "cell_type": "code",
      "execution_count": 38,
      "metadata": {},
      "outputs": [],
      "source": [
        "def predict_class(img_path):\n",
        "    img = image.load_img(img_path, target_size=(224, 224))\n",
        "    img_tensor = image.img_to_array(img)                   \n",
        "    img_tensor = np.expand_dims(img_tensor, axis=0)         \n",
        "    prediction = model.predict(img_tensor)\n",
        "    return prediction                                      "
      ]
    },
    {
      "cell_type": "code",
      "execution_count": 39,
      "metadata": {},
      "outputs": [],
      "source": [
        "def testing(ds, main_segment):\n",
        "    actual = []\n",
        "    predicted = []\n",
        "    \n",
        "    for class_label in CLASS:\n",
        "        final_actual = [1, 0] if class_label == CLASS_REAL else [0, 1]\n",
        "\n",
        "        src_dir = ds + DS_TEMPORAL + DS_TEST + main_segment + class_label\n",
        "\n",
        "        for vid_dir in os.listdir(src_dir):\n",
        "            all_segment_softmax = []\n",
        "\n",
        "            for child_segment in os.listdir(f'{src_dir}{vid_dir}'):\n",
        "                segment_sum = [0, 0]\n",
        "                frames_in_segment = 0\n",
        "\n",
        "                # obtain individual image prediction\n",
        "                for image in os.listdir(f'{src_dir}{vid_dir}/{child_segment}'):\n",
        "                    pred_class = predict_class(f'{src_dir}{vid_dir}/{child_segment}/{image}')\n",
        "                    \n",
        "                    # compute segment sum\n",
        "                    segment_sum[0] += pred_class[0]\n",
        "                    segment_sum[1] += pred_class[1]\n",
        "\n",
        "                    frames_in_segment += 1\n",
        "                \n",
        "                #compute segment average\n",
        "                segment_sum[0] /= frames_in_segment\n",
        "                segment_sum[1] /= frames_in_segment\n",
        "\n",
        "                #compute softmax of segment\n",
        "                segment_sum = softmax(np.array(segment_sum))\n",
        "                all_segment_softmax.append(segment_sum)\n",
        "\n",
        "            # compute segment wise sum\n",
        "            final_pred = [0, 0]\n",
        "            for pred in all_segment_softmax:\n",
        "                final_pred[0] += pred[0]\n",
        "                final_pred[1] += pred[1]\n",
        "\n",
        "            #compute overall softmax\n",
        "            final_pred = softmax(np.array(final_pred))\n",
        "\n",
        "            predicted.append(final_pred)\n",
        "            actual.append(final_actual)\n",
        "\n",
        "    return actual, predicted\n",
        "    "
      ]
    },
    {
      "cell_type": "code",
      "execution_count": null,
      "metadata": {},
      "outputs": [],
      "source": [
        "actual, predicted = testing(DS_CDFV1, SEG_1)"
      ]
    },
    {
      "cell_type": "code",
      "execution_count": 40,
      "metadata": {},
      "outputs": [],
      "source": [
        "def metrics(actual, predicted):\n",
        "    m = keras.metrics.CategoricalAccuracy()\n",
        "    m.update_state(actual, predicted)\n",
        "    print(f'Categorical Accuracy - {m.result().numpy()}')\n",
        "    \n",
        "    m = keras.metrics.Precision()\n",
        "    m.update_state(actual, predicted)\n",
        "    print(f'Precision - {m.result().numpy()}')\n",
        "\n",
        "    m = keras.metrics.Recall()\n",
        "    m.update_state(actual, predicted)\n",
        "    print(f'Recall - {m.result().numpy()}')\n",
        "\n",
        "    m = keras.metrics.AUC()\n",
        "    m.update_state(actual, predicted)\n",
        "    print(f'AUC - {m.result().numpy()}')"
      ]
    },
    {
      "cell_type": "code",
      "execution_count": null,
      "metadata": {},
      "outputs": [],
      "source": [
        "metrics(actual, predicted)"
      ]
    }
  ],
  "metadata": {
    "accelerator": "GPU",
    "colab": {
      "provenance": []
    },
    "gpuClass": "standard",
    "kernelspec": {
      "display_name": "venv",
      "language": "python",
      "name": "python3"
    },
    "language_info": {
      "codemirror_mode": {
        "name": "ipython",
        "version": 3
      },
      "file_extension": ".py",
      "mimetype": "text/x-python",
      "name": "python",
      "nbconvert_exporter": "python",
      "pygments_lexer": "ipython3",
      "version": "3.10.10"
    },
    "orig_nbformat": 4
  },
  "nbformat": 4,
  "nbformat_minor": 0
}
