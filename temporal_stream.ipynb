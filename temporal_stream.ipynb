{
  "cells": [
    {
      "cell_type": "code",
      "execution_count": 3,
      "metadata": {
        "id": "O6TM7wgJaBKZ"
      },
      "outputs": [],
      "source": [
        "import tensorflow as tf\n",
        "import keras\n",
        "from tensorflow.keras import datasets, models, layers, Input\n",
        "\n",
        "from keras.layers import Dense, Conv2D,  MaxPool2D, Flatten, GlobalAveragePooling2D,  BatchNormalization, Layer, Add, Dropout, LeakyReLU\n",
        "from keras.models import Sequential\n",
        "from keras.models import Model\n",
        "from keras.optimizers import Adam\n",
        "from keras.callbacks import LearningRateScheduler\n",
        "from keras.utils import load_img, img_to_array\n",
        "\n",
        "import os\n",
        "import av\n",
        "import shutil\n",
        "import imghdr\n",
        "import random\n",
        "from PIL import Image\n",
        "import pickle\n",
        "import numpy as np\n",
        "import math\n",
        "\n",
        "from scipy.special import softmax\n",
        "import matplotlib.pyplot as plt"
      ]
    },
    {
      "cell_type": "code",
      "execution_count": 6,
      "metadata": {},
      "outputs": [
        {
          "name": "stdout",
          "output_type": "stream",
          "text": [
            "[PhysicalDevice(name='/physical_device:GPU:0', device_type='GPU')]\n"
          ]
        }
      ],
      "source": [
        "print(tf.config.get_visible_devices('GPU'))"
      ]
    },
    {
      "cell_type": "code",
      "execution_count": 10,
      "metadata": {
        "id": "63FVafT9agmz"
      },
      "outputs": [],
      "source": [
        "DS_CDFV1 = 'celeb_df_v1/'\n",
        "DS_CDFV2 = 'celeb_df_v2/'\n",
        "\n",
        "DS_ORGINAL = 'dataset_original/'\n",
        "DS_SPLIT = 'dataset_split/'\n",
        "DS_IFRAMES = 'dataset_iframes/'\n",
        "DS_FACE = 'dataset_face/'\n",
        "DS_FACE_IMG = 'dataset_face_img/'\n",
        "DS_SRM_SNIPPETS = 'dataset_srm_snippets_5/'\n",
        "DS_SEGMENTS = 'dataset_segments/'\n",
        "DS_RAW = 'dataset_raw/'\n",
        "DS_RESIDUALS = 'dataset_residuals/'\n",
        "DS_TEMPORAL = 'dataset_temporal/'\n",
        "\n",
        "DS_FRAME_DIFF = 'dataset_frame_diff/'\n",
        "DS_FRAME_DIFF_IMG = 'dataset_frame_diff_img/'\n",
        "\n",
        "DS_SEG_COUNT_1 = '1_segment/'\n",
        "DS_SEG_COUNT_2 = '2_segments/'\n",
        "DS_SEG_COUNT_3 = '3_segments/'\n",
        "DS_SEG_COUNT_4 = '4_segments/'\n",
        "DS_SEG_COUNT_5 = '5_segments/'\n",
        "\n",
        "SEG_COUNT = [DS_SEG_COUNT_1, DS_SEG_COUNT_2, DS_SEG_COUNT_3, DS_SEG_COUNT_4, DS_SEG_COUNT_5]\n",
        "\n",
        "SEG_1 = 'seg_1/'\n",
        "SEG_2 = 'seg_2/'\n",
        "SEG_3 = 'seg_3/'\n",
        "SEG_4 = 'seg_4/'\n",
        "SEG_5 = 'seg_5/'\n",
        "\n",
        "SEG = ['seg_1_', 'seg_2_', 'seg_3_', 'seg_4_', 'seg_5_']\n",
        "\n",
        "DS_TRAIN = 'train_dataset/'\n",
        "DS_TEST = 'test_dataset/'\n",
        "DS_VAL = 'val_dataset/'\n",
        "\n",
        "CLASS_FAKE = 'fake/'\n",
        "CLASS_REAL = 'real/'\n",
        "\n",
        "\n",
        "TOP_LEVEL_1 = [DS_SPLIT, DS_IFRAMES, DS_FACE, DS_FACE_IMG, DS_SRM_SNIPPETS]\n",
        "TOP_LEVEL_2 = [DS_SEGMENTS, DS_RAW, DS_RESIDUALS]\n",
        "SEGMENTS = [SEG_1, SEG_2, SEG_3, SEG_4, SEG_5]\n",
        "SPLIT = [DS_TRAIN, DS_TEST, DS_VAL]\n",
        "CLASS = [CLASS_REAL, CLASS_FAKE]\n",
        "\n",
        "DATASET = [DS_CDFV1, DS_CDFV2]"
      ]
    },
    {
      "cell_type": "code",
      "execution_count": 9,
      "metadata": {},
      "outputs": [],
      "source": [
        "SAVE_CHECKPOINT_PATH = 'models/TEMPORAL_MODEL/checkpoints/'\n",
        "SAVE_METRICS_PATH = 'models/TEMPORAL_MODEL/metrics/'\n",
        "SAVE_MODEL_PATH = 'models/TEMPORAL_MODEL/final_model/'\n",
        "BACKUP_MODEL_PATH = 'models/TEMPORAL_MODEL/backups/'\n",
        "\n",
        "TEST_SCORE_PATH = 'test_scores/'"
      ]
    },
    {
      "cell_type": "markdown",
      "metadata": {
        "id": "obn4t70mJyl6"
      },
      "source": [
        "# Frame Extraction"
      ]
    },
    {
      "cell_type": "code",
      "execution_count": 4,
      "metadata": {},
      "outputs": [],
      "source": [
        "# Returns the index of frames that begin a new segment (except the first segment)\n",
        "def get_segment_dividers(frame_count, num_segments):\n",
        "    segments_per_frame = math.floor(frame_count / num_segments)\n",
        "\n",
        "    return [(segments_per_frame * i) for i in range(1, num_segments) ]"
      ]
    },
    {
      "cell_type": "code",
      "execution_count": 5,
      "metadata": {},
      "outputs": [],
      "source": [
        "# Returns the indices of the frames that will be randomly selected from each segment\n",
        "# Multiple snippets indices per segment can be returned by setting the num_snippets arg \n",
        "def get_snippet_indices(segment_dividers, num_snippets):\n",
        "    start_index = 0\n",
        "    num_snippets = 1 if num_snippets <= 0 else num_snippets\n",
        "\n",
        "    snippet_indices = []\n",
        "    for end_index in segment_dividers:\n",
        "\n",
        "        # Extracting multiple snippets per segment (if needed)\n",
        "        for _ in range(num_snippets):\n",
        "            snippet_indices.append(random.randint(start_index, end_index - 1))\n",
        "\n",
        "        start_index = end_index\n",
        "        \n",
        "    return snippet_indices"
      ]
    },
    {
      "cell_type": "code",
      "execution_count": 6,
      "metadata": {},
      "outputs": [],
      "source": [
        "# Returns an array of randomly selected snippets(PIL.Image) from each segment of the input video\n",
        "def extract_snippets(fp, num_segments, num_snippets):\n",
        "    vid_container = av.open(fp)\n",
        "    vid_stream = vid_container.streams.video[0]\n",
        "    frame_count = vid_stream.frames\n",
        "\n",
        "    snippets = []\n",
        "\n",
        "    # If number of frames in video is less than the number of frames that need to sampled\n",
        "    # then take all frames in the video\n",
        "    if frame_count < num_segments * num_snippets:\n",
        "        for frame in vid_container.decode():\n",
        "            snippets.append(frame.to_image())\n",
        "\n",
        "    else:\n",
        "        segment_dividers = get_segment_dividers(frame_count, num_segments)\n",
        "        segment_dividers = segment_dividers + [frame_count]\n",
        "\n",
        "        snippet_indices = get_snippet_indices(segment_dividers, num_snippets)\n",
        "\n",
        "        frame_index = 0\n",
        "        for frame in vid_container.decode():\n",
        "            if frame_index > max(snippet_indices):\n",
        "                break\n",
        "\n",
        "            if frame_index in snippet_indices:\n",
        "                snippets.append(frame.to_image())\n",
        "\n",
        "            frame_index += 1\n",
        "\n",
        "    return snippets"
      ]
    },
    {
      "cell_type": "code",
      "execution_count": 7,
      "metadata": {},
      "outputs": [],
      "source": [
        "def extract_frames_from_video(fp):\n",
        "    vid_container = av.open(fp)\n",
        "\n",
        "    frames = []\n",
        "    for frame in vid_container.decode():\n",
        "        frames.append(frame.to_image())\n",
        "\n",
        "    return frames"
      ]
    },
    {
      "cell_type": "code",
      "execution_count": 8,
      "metadata": {},
      "outputs": [],
      "source": [
        "def create_image_dataset(dataset):\n",
        "    assert dataset == DS_CDFV1 or dataset == DS_CDFV2\n",
        "\n",
        "    src_base_path = dataset + DS_FRAME_DIFF\n",
        "    dst_base_path = dataset + DS_FRAME_DIFF_IMG\n",
        "\n",
        "    for split in SPLIT:\n",
        "        print(f'---Split started: {split}---')\n",
        "\n",
        "        for class_dir in CLASS:\n",
        "            print(f'Class started: {class_dir}')\n",
        "\n",
        "            for video in os.listdir(src_base_path + split + class_dir):\n",
        "                fp = src_base_path + split + class_dir + video\n",
        "                frames = extract_frames_from_video(fp)\n",
        "\n",
        "                for i, frame in enumerate(frames, start=1):\n",
        "                    frame = frame.resize((224, 224))\n",
        "                    dst = f'{dst_base_path + split + class_dir + os.path.splitext(video)[0]}_f{i}.jpeg'\n",
        "                    frame.save(dst)"
      ]
    },
    {
      "cell_type": "code",
      "execution_count": 66,
      "metadata": {},
      "outputs": [
        {
          "name": "stdout",
          "output_type": "stream",
          "text": [
            "---Split started: train_dataset/---\n",
            "Class started: real/\n",
            "Class started: fake/\n",
            "---Split started: test_dataset/---\n",
            "Class started: real/\n",
            "Class started: fake/\n",
            "---Split started: val_dataset/---\n",
            "Class started: real/\n",
            "Class started: fake/\n"
          ]
        }
      ],
      "source": [
        "create_image_dataset(DS_CDFV2)"
      ]
    },
    {
      "attachments": {},
      "cell_type": "markdown",
      "metadata": {},
      "source": [
        "## Balancing Real:Fake Ratio"
      ]
    },
    {
      "cell_type": "code",
      "execution_count": 67,
      "metadata": {},
      "outputs": [],
      "source": [
        "real_count = len(os.listdir(DS_CDFV2 + DS_FRAME_DIFF_IMG + DS_TRAIN + CLASS_REAL))\n",
        "fake_count = len(os.listdir(DS_CDFV2 + DS_FRAME_DIFF_IMG + DS_TRAIN + CLASS_FAKE))\n",
        "fake_files = os.listdir(DS_CDFV2 + DS_FRAME_DIFF_IMG + DS_TRAIN + CLASS_FAKE)\n",
        "\n",
        "TMP_STORAGE = DS_CDFV2 + DS_FRAME_DIFF_IMG + 'ST_TRAIN/' + CLASS_FAKE\n",
        "rem_samples = random.sample(fake_files, fake_count - 20000)\n",
        "\n",
        "for sample in rem_samples:\n",
        "    shutil.move(DS_CDFV2 + DS_FRAME_DIFF_IMG + DS_TRAIN + CLASS_FAKE + sample, TMP_STORAGE + sample)"
      ]
    },
    {
      "cell_type": "code",
      "execution_count": 68,
      "metadata": {},
      "outputs": [],
      "source": [
        "real_count = len(os.listdir(DS_CDFV2 + DS_FRAME_DIFF_IMG + DS_VAL + CLASS_REAL))\n",
        "fake_count = len(os.listdir(DS_CDFV2 + DS_FRAME_DIFF_IMG + DS_VAL + CLASS_FAKE))\n",
        "fake_files = os.listdir(DS_CDFV2 + DS_FRAME_DIFF_IMG + DS_VAL + CLASS_FAKE)\n",
        "\n",
        "TMP_STORAGE = DS_CDFV2 + DS_FRAME_DIFF_IMG + 'ST_TRAIN/' + CLASS_FAKE\n",
        "rem_samples = random.sample(fake_files, fake_count - 5000)\n",
        "\n",
        "for sample in rem_samples:\n",
        "    shutil.move(DS_CDFV2 + DS_FRAME_DIFF_IMG + DS_VAL + CLASS_FAKE + sample, TMP_STORAGE + sample)"
      ]
    },
    {
      "attachments": {},
      "cell_type": "markdown",
      "metadata": {},
      "source": [
        "# Tensor Dataset Creation"
      ]
    },
    {
      "cell_type": "code",
      "execution_count": 145,
      "metadata": {},
      "outputs": [],
      "source": [
        "def create_tensor_dataset(dataset, split):\n",
        "    ds = keras.utils.image_dataset_from_directory(\n",
        "        directory = dataset + DS_FRAME_DIFF_IMG + split,\n",
        "        labels = 'inferred',\n",
        "        label_mode = 'binary',\n",
        "        batch_size = 32,\n",
        "        color_mode = 'rgb',\n",
        "        shuffle = True,\n",
        "        image_size = (224, 224),\n",
        "        seed = 1\n",
        "    )\n",
        "\n",
        "    return ds"
      ]
    },
    {
      "cell_type": "code",
      "execution_count": 146,
      "metadata": {},
      "outputs": [
        {
          "name": "stdout",
          "output_type": "stream",
          "text": [
            "Found 38950 files belonging to 2 classes.\n",
            "Found 16239 files belonging to 2 classes.\n",
            "Found 9714 files belonging to 2 classes.\n"
          ]
        }
      ],
      "source": [
        "# Celeb DF v2 Dataset\n",
        "\n",
        "train_dataset_cdfv2 = create_tensor_dataset(DS_CDFV2, DS_TRAIN)\n",
        "test_dataset_cdfv2 = create_tensor_dataset(DS_CDFV2, DS_TEST)\n",
        "val_dataset_cdfv2 = create_tensor_dataset(DS_CDFV2, DS_VAL)"
      ]
    },
    {
      "attachments": {},
      "cell_type": "markdown",
      "metadata": {},
      "source": [
        "## OLD"
      ]
    },
    {
      "cell_type": "code",
      "execution_count": null,
      "metadata": {
        "id": "0oafFniYJyl7"
      },
      "outputs": [],
      "source": [
        "for dataset in DATASET:\n",
        "    for split in SPLIT:\n",
        "        if split is DS_TEST:\n",
        "            for segment in SEGMENTS:\n",
        "                for label_class in CLASS:\n",
        "                    dir = dataset + DS_TEMPORAL + split + segment + label_class\n",
        "                    os.makedirs(dir, exist_ok=True) \n",
        "        else:\n",
        "            for label_class in CLASS:\n",
        "                dir = dataset + DS_TEMPORAL + split + label_class\n",
        "                os.makedirs(dir, exist_ok=True)"
      ]
    },
    {
      "cell_type": "code",
      "execution_count": null,
      "metadata": {
        "id": "om2ecQOfJyl8"
      },
      "outputs": [],
      "source": [
        "# List of testing videos\n",
        "for src_dir in DATASET:\n",
        "    for label, class_label in enumerate(CLASS):\n",
        "        with open(src_dir + DS_TEMPORAL + 'testing_videos.txt', 'a+') as f:\n",
        "            for file in os.listdir(src_dir + DS_SPLIT + DS_TEST + class_label):\n",
        "                f.write(f'{file} {label}\\n')"
      ]
    },
    {
      "cell_type": "markdown",
      "metadata": {
        "id": "wwNYCNmlJyl9"
      },
      "source": [
        "### Test Dataset"
      ]
    },
    {
      "cell_type": "code",
      "execution_count": null,
      "metadata": {
        "id": "rDbgcNZBJyl9"
      },
      "outputs": [],
      "source": [
        "def extract_frames_test(ds, dest_dir, segment, split, label, file):\n",
        "    src_dir = ds + DS_RESIDUALS + segment + split + label\n",
        "\n",
        "    for index, curr_segment in enumerate(SEGMENTS):\n",
        "        if curr_segment > segment:\n",
        "            break\n",
        "\n",
        "        residual_file = src_dir + SEG[index] + file\n",
        "        os.makedirs(dest_dir + SEGMENTS[index], exist_ok=True)\n",
        "\n",
        "        vid = av.open(residual_file)\n",
        "\n",
        "        for count, frame in enumerate(vid.decode()):\n",
        "            image = frame.to_image()\n",
        "            image.save(f'{dest_dir}{SEGMENTS[index]}frame_{count}.jpg')"
      ]
    },
    {
      "cell_type": "code",
      "execution_count": null,
      "metadata": {
        "id": "0QeMcQemJyl-"
      },
      "outputs": [],
      "source": [
        "def extract_segment_frames(ds, segment):\n",
        "    file = open(ds + DS_TEMPORAL + 'testing_videos.txt', 'r')\n",
        "    videos = file.readlines()\n",
        "\n",
        "    for video in videos:\n",
        "        [file, label] = video.split(' ')\n",
        "        label = CLASS_REAL if int(label) == 0 else CLASS_FAKE\n",
        "        \n",
        "        dest_dir = ds + DS_TEMPORAL + DS_TEST + segment + label + '/' + file +'/'\n",
        "        os.makedirs(dest_dir, exist_ok=True)\n",
        "\n",
        "        extract_frames_test(ds, dest_dir, segment, DS_TEST, label, file)    "
      ]
    },
    {
      "cell_type": "code",
      "execution_count": null,
      "metadata": {
        "id": "gdbr_uXLJyl_"
      },
      "outputs": [],
      "source": [
        "extract_segment_frames(DS_CDFV1, SEG_2)"
      ]
    },
    {
      "cell_type": "markdown",
      "metadata": {
        "id": "i_LdKstcJyl_"
      },
      "source": [
        "### Training and Validation Dataset"
      ]
    },
    {
      "cell_type": "code",
      "execution_count": null,
      "metadata": {
        "id": "YvRbVhvXJymA"
      },
      "outputs": [],
      "source": [
        "def extract_frames_train_val(ds):\n",
        "    for split in SPLIT:\n",
        "        if split == DS_TEST:\n",
        "            continue\n",
        "        else:\n",
        "            for label_class in CLASS:\n",
        "                src_dir = ds + DS_RESIDUALS + SEG_1 + split + label_class\n",
        "                dest_dir = ds + DS_TEMPORAL + split + label_class\n",
        "            \n",
        "                for id, video in enumerate(os.listdir(src_dir)):\n",
        "                    vid = av.open(src_dir + video)\n",
        "\n",
        "                    for count, frame in enumerate(vid.decode()):\n",
        "                        image = frame.to_image()\n",
        "                        image.save(f'{dest_dir}frame_{count}_vid_{id}.jpg')"
      ]
    },
    {
      "cell_type": "code",
      "execution_count": null,
      "metadata": {
        "id": "xd8ny7OCJymA"
      },
      "outputs": [],
      "source": [
        "extract_frames_train_val(DS_CDFV1)"
      ]
    },
    {
      "cell_type": "markdown",
      "metadata": {
        "id": "ao5ExoVSa3bT"
      },
      "source": [
        "# ResNet-18 Model"
      ]
    },
    {
      "attachments": {},
      "cell_type": "markdown",
      "metadata": {},
      "source": [
        "### Resnet-18 Architecture"
      ]
    },
    {
      "cell_type": "code",
      "execution_count": null,
      "metadata": {
        "id": "TaBcyV3NarBy"
      },
      "outputs": [],
      "source": [
        "class ResnetBlock(Model):\n",
        "\n",
        "    def __init__(self, channels: int, down_sample=False):\n",
        "        super().__init__()\n",
        "\n",
        "        self.__channels = channels\n",
        "        self.__down_sample = down_sample\n",
        "        self.__strides = [2, 1] if down_sample else [1, 1]\n",
        "\n",
        "        KERNEL_SIZE = (3, 3)\n",
        "        \n",
        "        # use He initialization, instead of Xavier (a.k.a 'glorot_uniform' in Keras)\n",
        "        INIT_SCHEME = \"he_normal\"\n",
        "\n",
        "        self.conv_1 = Conv2D(self.__channels, strides=self.__strides[0],\n",
        "                             kernel_size=KERNEL_SIZE, padding=\"same\", kernel_initializer=INIT_SCHEME)\n",
        "        self.bn_1 = BatchNormalization()\n",
        "        self.conv_2 = Conv2D(self.__channels, strides=self.__strides[1],\n",
        "                             kernel_size=KERNEL_SIZE, padding=\"same\", kernel_initializer=INIT_SCHEME)\n",
        "        self.bn_2 = BatchNormalization()\n",
        "        self.merge = Add()\n",
        "\n",
        "        if self.__down_sample:\n",
        "            # perform down sampling using stride of 2\n",
        "            self.res_conv = Conv2D(\n",
        "                self.__channels, strides=2, kernel_size=(1, 1), kernel_initializer=INIT_SCHEME, padding=\"same\")\n",
        "            self.res_bn = BatchNormalization()\n",
        "\n",
        "    def call(self, inputs):\n",
        "        res = inputs\n",
        "\n",
        "        x = self.conv_1(inputs)\n",
        "        x = self.bn_1(x)\n",
        "        x = tf.nn.relu(x)\n",
        "        x = self.conv_2(x)\n",
        "        x = self.bn_2(x)\n",
        "\n",
        "        if self.__down_sample:\n",
        "            res = self.res_conv(res)\n",
        "            res = self.res_bn(res)\n",
        "\n",
        "        # if not perform down sample, then add a shortcut directly\n",
        "        x = self.merge([x, res])\n",
        "        out = tf.nn.relu(x)\n",
        "        return out"
      ]
    },
    {
      "cell_type": "code",
      "execution_count": null,
      "metadata": {
        "id": "nkGQqOjebWfz"
      },
      "outputs": [],
      "source": [
        "class ResNet18(Model):\n",
        "\n",
        "    def __init__(self, num_classes, **kwargs):\n",
        "        super().__init__(**kwargs)\n",
        "        \n",
        "        self.conv_1 = Conv2D(64, (7, 7), strides=2, padding=\"same\")\n",
        "        self.init_bn = BatchNormalization()\n",
        "        self.pool_2 = MaxPool2D(pool_size=(3, 3), strides=2, padding=\"same\")\n",
        "\n",
        "        self.res_1_1 = ResnetBlock(64)\n",
        "        self.res_1_2 = ResnetBlock(64)\n",
        "\n",
        "        self.res_2_1 = ResnetBlock(128, down_sample=True)\n",
        "        self.res_2_2 = ResnetBlock(128)\n",
        "\n",
        "        self.res_3_1 = ResnetBlock(256, down_sample=True)\n",
        "        self.res_3_2 = ResnetBlock(256)\n",
        "\n",
        "        self.res_4_1 = ResnetBlock(512, down_sample=True)\n",
        "        self.res_4_2 = ResnetBlock(512)\n",
        "        \n",
        "        self.avg_pool = GlobalAveragePooling2D()\n",
        "        self.flat = Flatten()\n",
        "\n",
        "        self.dropout_1 = Dropout(0.8)\n",
        "        self.fc_1 = Dense(100, activation=LeakyReLU())\n",
        "        \n",
        "        self.dropout_2 = Dropout(0.5)\n",
        "        self.fc_2 = Dense(num_classes, activation=\"sigmoid\")\n",
        "\n",
        "    def call(self, inputs):\n",
        "        out = self.conv_1(inputs)\n",
        "        out = self.init_bn(out)\n",
        "        out = tf.nn.relu(out)\n",
        "        out = self.pool_2(out)\n",
        "\n",
        "        for res_block in [self.res_1_1, self.res_1_2, self.res_2_1, self.res_2_2, self.res_3_1, self.res_3_2, self.res_4_1, self.res_4_2]:\n",
        "            out = res_block(out)\n",
        "            \n",
        "        out = self.avg_pool(out)\n",
        "        out = self.flat(out)\n",
        "\n",
        "        out = self.dropout_1(out)\n",
        "        out = self.fc_1(out)\n",
        "\n",
        "        out = self.dropout_2(out)\n",
        "        out = self.fc_2(out)\n",
        "\n",
        "        return out\n",
        "    \n",
        "    def summary(self, size):\n",
        "        x = Input(shape=size)\n",
        "        model = Model(inputs=[x], outputs=self.call(x))\n",
        "        return model.summary()"
      ]
    },
    {
      "attachments": {},
      "cell_type": "markdown",
      "metadata": {},
      "source": [
        "### Model creation"
      ]
    },
    {
      "cell_type": "code",
      "execution_count": 73,
      "metadata": {
        "colab": {
          "base_uri": "https://localhost:8080/"
        },
        "id": "odnGR1kkbrYs",
        "outputId": "2d323d08-757d-4883-bb70-22948881d1a8"
      },
      "outputs": [
        {
          "name": "stdout",
          "output_type": "stream",
          "text": [
            "WARNING:tensorflow:AutoGraph could not transform <bound method ResnetBlock.call of <__main__.ResnetBlock object at 0x7fca0b18ac20>> and will run it as-is.\n",
            "Cause: mangled names are not yet supported\n",
            "To silence this warning, decorate the function with @tf.autograph.experimental.do_not_convert\n",
            "WARNING: AutoGraph could not transform <bound method ResnetBlock.call of <__main__.ResnetBlock object at 0x7fca0b18ac20>> and will run it as-is.\n",
            "Cause: mangled names are not yet supported\n",
            "To silence this warning, decorate the function with @tf.autograph.experimental.do_not_convert\n",
            "Model: \"model_5\"\n",
            "_________________________________________________________________\n",
            " Layer (type)                Output Shape              Param #   \n",
            "=================================================================\n",
            " input_6 (InputLayer)        [(None, 224, 224, 3)]     0         \n",
            "                                                                 \n",
            " conv2d_100 (Conv2D)         (None, 112, 112, 64)      9472      \n",
            "                                                                 \n",
            " batch_normalization_100 (Ba  (None, 112, 112, 64)     256       \n",
            " tchNormalization)                                               \n",
            "                                                                 \n",
            " tf.nn.relu_5 (TFOpLambda)   (None, 112, 112, 64)      0         \n",
            "                                                                 \n",
            " max_pooling2d_5 (MaxPooling  (None, 56, 56, 64)       0         \n",
            " 2D)                                                             \n",
            "                                                                 \n",
            " resnet_block_40 (ResnetBloc  (None, 56, 56, 64)       74368     \n",
            " k)                                                              \n",
            "                                                                 \n",
            " resnet_block_41 (ResnetBloc  (None, 56, 56, 64)       74368     \n",
            " k)                                                              \n",
            "                                                                 \n",
            " resnet_block_42 (ResnetBloc  (None, 28, 28, 128)      231296    \n",
            " k)                                                              \n",
            "                                                                 \n",
            " resnet_block_43 (ResnetBloc  (None, 28, 28, 128)      296192    \n",
            " k)                                                              \n",
            "                                                                 \n",
            " resnet_block_44 (ResnetBloc  (None, 14, 14, 256)      921344    \n",
            " k)                                                              \n",
            "                                                                 \n",
            " resnet_block_45 (ResnetBloc  (None, 14, 14, 256)      1182208   \n",
            " k)                                                              \n",
            "                                                                 \n",
            " resnet_block_46 (ResnetBloc  (None, 7, 7, 512)        3677696   \n",
            " k)                                                              \n",
            "                                                                 \n",
            " resnet_block_47 (ResnetBloc  (None, 7, 7, 512)        4723712   \n",
            " k)                                                              \n",
            "                                                                 \n",
            " global_average_pooling2d_5   (None, 512)              0         \n",
            " (GlobalAveragePooling2D)                                        \n",
            "                                                                 \n",
            " flatten_5 (Flatten)         (None, 512)               0         \n",
            "                                                                 \n",
            " dropout_10 (Dropout)        (None, 512)               0         \n",
            "                                                                 \n",
            " dense_10 (Dense)            (None, 100)               51300     \n",
            "                                                                 \n",
            " dropout_11 (Dropout)        (None, 100)               0         \n",
            "                                                                 \n",
            " dense_11 (Dense)            (None, 1)                 101       \n",
            "                                                                 \n",
            "=================================================================\n",
            "Total params: 11,242,313\n",
            "Trainable params: 11,232,713\n",
            "Non-trainable params: 9,600\n",
            "_________________________________________________________________\n"
          ]
        }
      ],
      "source": [
        "input_size = (None, 224, 224, 3)\n",
        "num_classes = 1\n",
        "\n",
        "# model = resnet_18(input_size, num_classes)\n",
        "\n",
        "model = ResNet18(num_classes)\n",
        "model.build(input_shape = input_size)\n",
        "\n",
        "lr_schedule = tf.keras.optimizers.schedules.ExponentialDecay(\n",
        "    0.001,\n",
        "    decay_steps = 10,\n",
        "    decay_rate = 0.1,\n",
        "    staircase = False)\n",
        "\n",
        "model.compile(optimizer = Adam(learning_rate = 0.00001), \n",
        "              loss = 'binary_crossentropy', \n",
        "              metrics = [keras.metrics.BinaryAccuracy(), \n",
        "                         keras.metrics.Precision(), \n",
        "                         keras.metrics.Recall(),\n",
        "                         keras.metrics.AUC(),\n",
        "                         keras.metrics.FalseNegatives(),\n",
        "                         keras.metrics.FalsePositives(),\n",
        "                         keras.metrics.TrueNegatives(),\n",
        "                         keras.metrics.TruePositives()],\n",
        "             )\n",
        "\n",
        "model.summary((224, 224, 3))"
      ]
    },
    {
      "cell_type": "markdown",
      "metadata": {
        "id": "IsfauEloJymD"
      },
      "source": [
        "# Training"
      ]
    },
    {
      "cell_type": "code",
      "execution_count": 10,
      "metadata": {
        "id": "Jue8oRknJymD"
      },
      "outputs": [],
      "source": [
        "def get_train_val_dataset(train_src, val_src):\n",
        "\n",
        "  train_ds = keras.utils.image_dataset_from_directory(\n",
        "        directory = train_src,\n",
        "        labels = 'inferred',\n",
        "        label_mode = 'binary',\n",
        "        batch_size = 128,\n",
        "        image_size = (224, 224),\n",
        "        color_mode = 'rgb',\n",
        "        shuffle = True,\n",
        "        seed = 1\n",
        "    )\n",
        "\n",
        "  for data, labels in train_ds.take(1):\n",
        "    print(data.shape)\n",
        "\n",
        "  val_ds = keras.utils.image_dataset_from_directory(\n",
        "        directory = val_src,\n",
        "        labels = 'inferred',\n",
        "        label_mode = 'binary',\n",
        "        batch_size = 128,\n",
        "        image_size = (224, 224),\n",
        "        color_mode = 'rgb',\n",
        "        shuffle = True,\n",
        "        seed = 1\n",
        "    )\n",
        "\n",
        "  for data, labels in val_ds.take(1):\n",
        "    print(data.shape)\n",
        "\n",
        "  return train_ds, val_ds"
      ]
    },
    {
      "cell_type": "code",
      "execution_count": 11,
      "metadata": {
        "id": "z9iV8N_CJymD"
      },
      "outputs": [],
      "source": [
        "train_src = DS_CDFV2 + 'dataset_temporal_2/' + DS_TRAIN\n",
        "val_src = DS_CDFV2 + 'dataset_temporal_2/' + DS_VAL"
      ]
    },
    {
      "cell_type": "code",
      "execution_count": 12,
      "metadata": {
        "id": "j4ZGaA6hJymE",
        "outputId": "c6153bad-40ee-4190-976c-f0a15de2fa3a"
      },
      "outputs": [
        {
          "name": "stdout",
          "output_type": "stream",
          "text": [
            "Found 119663 files belonging to 2 classes.\n"
          ]
        },
        {
          "name": "stderr",
          "output_type": "stream",
          "text": [
            "2023-04-08 16:57:29.766610: I tensorflow/core/common_runtime/executor.cc:1197] [/device:CPU:0] (DEBUG INFO) Executor start aborting (this does not indicate an error and you can ignore this message): INVALID_ARGUMENT: You must feed a value for placeholder tensor 'Placeholder/_4' with dtype int32 and shape [119663]\n",
            "\t [[{{node Placeholder/_4}}]]\n",
            "2023-04-08 16:57:29.767026: I tensorflow/core/common_runtime/executor.cc:1197] [/device:CPU:0] (DEBUG INFO) Executor start aborting (this does not indicate an error and you can ignore this message): INVALID_ARGUMENT: You must feed a value for placeholder tensor 'Placeholder/_0' with dtype string and shape [119663]\n",
            "\t [[{{node Placeholder/_0}}]]\n"
          ]
        },
        {
          "name": "stdout",
          "output_type": "stream",
          "text": [
            "(128, 224, 224, 3)\n",
            "Found 38913 files belonging to 2 classes.\n",
            "(128, 224, 224, 3)\n"
          ]
        },
        {
          "name": "stderr",
          "output_type": "stream",
          "text": [
            "2023-04-08 16:57:32.669730: I tensorflow/core/common_runtime/executor.cc:1197] [/device:CPU:0] (DEBUG INFO) Executor start aborting (this does not indicate an error and you can ignore this message): INVALID_ARGUMENT: You must feed a value for placeholder tensor 'Placeholder/_0' with dtype string and shape [38913]\n",
            "\t [[{{node Placeholder/_0}}]]\n",
            "2023-04-08 16:57:32.670077: I tensorflow/core/common_runtime/executor.cc:1197] [/device:CPU:0] (DEBUG INFO) Executor start aborting (this does not indicate an error and you can ignore this message): INVALID_ARGUMENT: You must feed a value for placeholder tensor 'Placeholder/_0' with dtype string and shape [38913]\n",
            "\t [[{{node Placeholder/_0}}]]\n"
          ]
        }
      ],
      "source": [
        "train_ds, val_ds = get_train_val_dataset(train_src, val_src)"
      ]
    },
    {
      "cell_type": "code",
      "execution_count": 74,
      "metadata": {},
      "outputs": [],
      "source": [
        "class MetricsCheckPoint(keras.callbacks.Callback):\n",
        "    def on_epoch_end(self, epoch, logs=None):\n",
        "        metrics_dict = {}\n",
        "\n",
        "        if os.path.exists(SAVE_METRICS_PATH + 'metrics.pkl'):\n",
        "            with open(SAVE_METRICS_PATH + 'metrics.pkl', 'rb') as f:\n",
        "                metrics_dict = pickle.load(f)\n",
        "\n",
        "        for key, value in logs.items():\n",
        "            if key not in metrics_dict:\n",
        "                metrics_dict[key] = []\n",
        "\n",
        "            metrics_dict[key].append(value)\n",
        "\n",
        "        with open(SAVE_METRICS_PATH + 'metrics.pkl', 'wb') as f:\n",
        "            pickle.dump(metrics_dict, f)\n",
        "\n",
        "\n",
        "    def on_train_batch_begin(self, batch, logs=None):\n",
        "        metrics_dict = {}\n",
        "\n",
        "        if os.path.exists(SAVE_METRICS_PATH + 'metrics_batch.pkl'):\n",
        "            with open(SAVE_METRICS_PATH + 'metrics_batch.pkl', 'rb') as f:\n",
        "                metrics_dict = pickle.load(f)\n",
        "\n",
        "        for key, value in logs.items():\n",
        "            if key not in metrics_dict:\n",
        "                metrics_dict[key] = []\n",
        "\n",
        "            metrics_dict[key].append(value)\n",
        "\n",
        "        if batch % 10 == 0:\n",
        "            with open(SAVE_METRICS_PATH + 'metrics_batch.pkl', 'wb') as f:\n",
        "                pickle.dump(metrics_dict, f)"
      ]
    },
    {
      "cell_type": "code",
      "execution_count": 75,
      "metadata": {},
      "outputs": [],
      "source": [
        "model_checkpoint_callback = tf.keras.callbacks.ModelCheckpoint(\n",
        "    filepath = SAVE_CHECKPOINT_PATH + 'checkpoint',\n",
        "    save_weights_only = True,\n",
        "    save_best_only = True\n",
        ")"
      ]
    },
    {
      "cell_type": "code",
      "execution_count": 76,
      "metadata": {},
      "outputs": [],
      "source": [
        "early_stopping_callback = keras.callbacks.EarlyStopping(\n",
        "    patience = 10,\n",
        "    restore_best_weights = True,\n",
        ")"
      ]
    },
    {
      "cell_type": "code",
      "execution_count": 78,
      "metadata": {},
      "outputs": [],
      "source": [
        "model_restore_callback = keras.callbacks.BackupAndRestore(\n",
        "    backup_dir = BACKUP_MODEL_PATH + 'backup'\n",
        ")"
      ]
    },
    {
      "cell_type": "code",
      "execution_count": 131,
      "metadata": {
        "id": "nacyTfRYJymE"
      },
      "outputs": [],
      "source": [
        "max_epochs = 50\n",
        "\n",
        "reduce_lr = tf.keras.callbacks.ReduceLROnPlateau(monitor='val_loss', factor=0.1, patience=5, min_lr=0.00001)"
      ]
    },
    {
      "attachments": {},
      "cell_type": "markdown",
      "metadata": {},
      "source": [
        "### Transfer Learning"
      ]
    },
    {
      "cell_type": "code",
      "execution_count": 4,
      "metadata": {},
      "outputs": [
        {
          "name": "stdout",
          "output_type": "stream",
          "text": [
            "Downloading data from https://storage.googleapis.com/tensorflow/keras-applications/resnet/resnet50v2_weights_tf_dim_ordering_tf_kernels_notop.h5\n",
            "94668760/94668760 [==============================] - 9s 0us/step\n"
          ]
        }
      ],
      "source": [
        "resnet50v2 = tf.keras.applications.ResNet50V2(include_top=False)"
      ]
    },
    {
      "cell_type": "code",
      "execution_count": 5,
      "metadata": {},
      "outputs": [],
      "source": [
        "resnet50v2.trainable = True\n",
        "\n",
        "# TODO: Freezing all BN layers except for first one (can be done better)\n",
        "# Freeze all BN layers\n",
        "for layer in resnet50v2.layers:\n",
        "    if isinstance(layer, keras.layers.BatchNormalization):\n",
        "        layer.trainable = False\n",
        "\n",
        "# Unfreeze first BN layer\n",
        "for layer in resnet50v2.layers:\n",
        "    if isinstance(layer, keras.layers.BatchNormalization):\n",
        "        layer.trainable = True\n",
        "        break"
      ]
    },
    {
      "cell_type": "code",
      "execution_count": 6,
      "metadata": {},
      "outputs": [],
      "source": [
        "inputs = keras.layers.Input((224, 224, 3))\n",
        "x = tf.keras.applications.resnet_v2.preprocess_input(inputs)\n",
        "x = resnet50v2(x)\n",
        "x = Flatten()(x)\n",
        "x = Dropout(0.8)(x)\n",
        "x = Dense(100, activation=LeakyReLU())(x)\n",
        "x = Dropout(0.8)(x)\n",
        "out = Dense(1, activation='sigmoid')(x)\n",
        "\n",
        "model = keras.Model(inputs, out, name=\"temporal_stream\")"
      ]
    },
    {
      "cell_type": "code",
      "execution_count": 7,
      "metadata": {},
      "outputs": [
        {
          "name": "stdout",
          "output_type": "stream",
          "text": [
            "Model: \"temporal_stream\"\n",
            "_________________________________________________________________\n",
            " Layer (type)                Output Shape              Param #   \n",
            "=================================================================\n",
            " input_2 (InputLayer)        [(None, 224, 224, 3)]     0         \n",
            "                                                                 \n",
            " tf.math.truediv (TFOpLambda  (None, 224, 224, 3)      0         \n",
            " )                                                               \n",
            "                                                                 \n",
            " tf.math.subtract (TFOpLambd  (None, 224, 224, 3)      0         \n",
            " a)                                                              \n",
            "                                                                 \n",
            " resnet50v2 (Functional)     (None, None, None, 2048)  23564800  \n",
            "                                                                 \n",
            " flatten (Flatten)           (None, 100352)            0         \n",
            "                                                                 \n",
            " dropout (Dropout)           (None, 100352)            0         \n",
            "                                                                 \n",
            " dense (Dense)               (None, 100)               10035300  \n",
            "                                                                 \n",
            " dropout_1 (Dropout)         (None, 100)               0         \n",
            "                                                                 \n",
            " dense_1 (Dense)             (None, 1)                 101       \n",
            "                                                                 \n",
            "=================================================================\n",
            "Total params: 33,600,201\n",
            "Trainable params: 33,509,449\n",
            "Non-trainable params: 90,752\n",
            "_________________________________________________________________\n"
          ]
        }
      ],
      "source": [
        "model.compile(optimizer = Adam(learning_rate = 0.00001), \n",
        "              loss = keras.losses.BinaryCrossentropy(), \n",
        "              metrics = [keras.metrics.BinaryAccuracy(), \n",
        "                         keras.metrics.Precision(), \n",
        "                         keras.metrics.Recall(),\n",
        "                         keras.metrics.AUC(),\n",
        "                         keras.metrics.FalseNegatives(),\n",
        "                         keras.metrics.FalsePositives(),\n",
        "                         keras.metrics.TrueNegatives(),\n",
        "                         keras.metrics.TruePositives()],\n",
        "             )\n",
        "\n",
        "model.summary()"
      ]
    },
    {
      "attachments": {},
      "cell_type": "markdown",
      "metadata": {},
      "source": [
        "### Training"
      ]
    },
    {
      "cell_type": "code",
      "execution_count": 150,
      "metadata": {
        "id": "mAbgxmECJymF",
        "outputId": "3320398e-9281-4585-da07-c8e366584a2c"
      },
      "outputs": [
        {
          "name": "stdout",
          "output_type": "stream",
          "text": [
            "Epoch 1/50\n",
            "   6/1218 [..............................] - ETA: 5:40 - loss: 3.9497 - binary_accuracy: 0.5312 - precision_14: 0.5047 - recall_14: 0.5934 - auc_14: 0.5425 - false_negatives_14: 37.0000 - false_positives_14: 53.0000 - true_negatives_14: 48.0000 - true_positives_14: 54.0000WARNING:tensorflow:Callback method `on_train_batch_end` is slow compared to the batch time (batch time: 0.1224s vs `on_train_batch_end` time: 0.1323s). Check your callbacks.\n",
            "1218/1218 [==============================] - ETA: 0s - loss: 0.9068 - binary_accuracy: 0.5108 - precision_14: 0.4970 - recall_14: 0.4594 - auc_14: 0.5095 - false_negatives_14: 10245.0000 - false_positives_14: 8809.0000 - true_negatives_14: 11191.0000 - true_positives_14: 8705.0000"
          ]
        },
        {
          "name": "stderr",
          "output_type": "stream",
          "text": [
            "2023-04-09 06:18:45.307498: I tensorflow/core/common_runtime/executor.cc:1197] [/device:CPU:0] (DEBUG INFO) Executor start aborting (this does not indicate an error and you can ignore this message): INVALID_ARGUMENT: You must feed a value for placeholder tensor 'Placeholder/_4' with dtype int32 and shape [9714]\n",
            "\t [[{{node Placeholder/_4}}]]\n",
            "2023-04-09 06:18:45.307889: I tensorflow/core/common_runtime/executor.cc:1197] [/device:CPU:0] (DEBUG INFO) Executor start aborting (this does not indicate an error and you can ignore this message): INVALID_ARGUMENT: You must feed a value for placeholder tensor 'Placeholder/_4' with dtype int32 and shape [9714]\n",
            "\t [[{{node Placeholder/_4}}]]\n"
          ]
        },
        {
          "name": "stdout",
          "output_type": "stream",
          "text": [
            "1218/1218 [==============================] - 395s 314ms/step - loss: 0.9068 - binary_accuracy: 0.5108 - precision_14: 0.4970 - recall_14: 0.4594 - auc_14: 0.5095 - false_negatives_14: 10245.0000 - false_positives_14: 8809.0000 - true_negatives_14: 11191.0000 - true_positives_14: 8705.0000 - val_loss: 0.6904 - val_binary_accuracy: 0.5401 - val_precision_14: 0.6264 - val_recall_14: 0.1298 - val_auc_14: 0.5549 - val_false_negatives_14: 4102.0000 - val_false_positives_14: 365.0000 - val_true_negatives_14: 4635.0000 - val_true_positives_14: 612.0000\n",
            "Epoch 2/50\n",
            "1218/1218 [==============================] - 372s 306ms/step - loss: 0.6834 - binary_accuracy: 0.5479 - precision_14: 0.5415 - recall_14: 0.4609 - auc_14: 0.5672 - false_negatives_14: 10216.0000 - false_positives_14: 7394.0000 - true_negatives_14: 12606.0000 - true_positives_14: 8734.0000 - val_loss: 0.6613 - val_binary_accuracy: 0.6028 - val_precision_14: 0.6473 - val_recall_14: 0.3990 - val_auc_14: 0.6287 - val_false_negatives_14: 2833.0000 - val_false_positives_14: 1025.0000 - val_true_negatives_14: 3975.0000 - val_true_positives_14: 1881.0000\n",
            "Epoch 3/50\n",
            "1218/1218 [==============================] - 371s 305ms/step - loss: 0.6303 - binary_accuracy: 0.6202 - precision_14: 0.6484 - recall_14: 0.4792 - auc_14: 0.6640 - false_negatives_14: 9869.0000 - false_positives_14: 4925.0000 - true_negatives_14: 15075.0000 - true_positives_14: 9081.0000 - val_loss: 0.6358 - val_binary_accuracy: 0.6191 - val_precision_14: 0.8091 - val_recall_14: 0.2815 - val_auc_14: 0.6514 - val_false_negatives_14: 3387.0000 - val_false_positives_14: 313.0000 - val_true_negatives_14: 4687.0000 - val_true_positives_14: 1327.0000\n",
            "Epoch 4/50\n",
            "1218/1218 [==============================] - 387s 318ms/step - loss: 0.5641 - binary_accuracy: 0.6822 - precision_14: 0.7498 - recall_14: 0.5205 - auc_14: 0.7478 - false_negatives_14: 9086.0000 - false_positives_14: 3291.0000 - true_negatives_14: 16709.0000 - true_positives_14: 9864.0000 - val_loss: 0.6566 - val_binary_accuracy: 0.6046 - val_precision_14: 0.7551 - val_recall_14: 0.2741 - val_auc_14: 0.6135 - val_false_negatives_14: 3422.0000 - val_false_positives_14: 419.0000 - val_true_negatives_14: 4581.0000 - val_true_positives_14: 1292.0000\n",
            "Epoch 5/50\n",
            "1218/1218 [==============================] - 387s 318ms/step - loss: 0.5044 - binary_accuracy: 0.7278 - precision_14: 0.8031 - recall_14: 0.5836 - auc_14: 0.8095 - false_negatives_14: 7891.0000 - false_positives_14: 2712.0000 - true_negatives_14: 17288.0000 - true_positives_14: 11059.0000 - val_loss: 0.8713 - val_binary_accuracy: 0.6098 - val_precision_14: 0.7610 - val_recall_14: 0.2857 - val_auc_14: 0.5829 - val_false_negatives_14: 3367.0000 - val_false_positives_14: 423.0000 - val_true_negatives_14: 4577.0000 - val_true_positives_14: 1347.0000\n",
            "Epoch 6/50\n",
            "1218/1218 [==============================] - 388s 319ms/step - loss: 0.4433 - binary_accuracy: 0.7667 - precision_14: 0.8282 - recall_14: 0.6567 - auc_14: 0.8585 - false_negatives_14: 6505.0000 - false_positives_14: 2582.0000 - true_negatives_14: 17418.0000 - true_positives_14: 12445.0000 - val_loss: 0.8697 - val_binary_accuracy: 0.5932 - val_precision_14: 0.6517 - val_recall_14: 0.3473 - val_auc_14: 0.5797 - val_false_negatives_14: 3077.0000 - val_false_positives_14: 875.0000 - val_true_negatives_14: 4125.0000 - val_true_positives_14: 1637.0000\n",
            "Epoch 7/50\n",
            "1218/1218 [==============================] - 381s 313ms/step - loss: 0.3895 - binary_accuracy: 0.7976 - precision_14: 0.8560 - recall_14: 0.7022 - auc_14: 0.8925 - false_negatives_14: 5644.0000 - false_positives_14: 2238.0000 - true_negatives_14: 17762.0000 - true_positives_14: 13306.0000 - val_loss: 1.2973 - val_binary_accuracy: 0.6018 - val_precision_14: 0.7442 - val_recall_14: 0.2734 - val_auc_14: 0.5587 - val_false_negatives_14: 3425.0000 - val_false_positives_14: 443.0000 - val_true_negatives_14: 4557.0000 - val_true_positives_14: 1289.0000\n",
            "Epoch 8/50\n",
            "1218/1218 [==============================] - 373s 306ms/step - loss: 0.3481 - binary_accuracy: 0.8202 - precision_14: 0.8749 - recall_14: 0.7356 - auc_14: 0.9151 - false_negatives_14: 5010.0000 - false_positives_14: 1994.0000 - true_negatives_14: 18006.0000 - true_positives_14: 13940.0000 - val_loss: 1.4026 - val_binary_accuracy: 0.5980 - val_precision_14: 0.6968 - val_recall_14: 0.3038 - val_auc_14: 0.5623 - val_false_negatives_14: 3282.0000 - val_false_positives_14: 623.0000 - val_true_negatives_14: 4377.0000 - val_true_positives_14: 1432.0000\n",
            "Epoch 9/50\n",
            "1218/1218 [==============================] - 372s 305ms/step - loss: 0.3173 - binary_accuracy: 0.8368 - precision_14: 0.8864 - recall_14: 0.7623 - auc_14: 0.9300 - false_negatives_14: 4504.0000 - false_positives_14: 1852.0000 - true_negatives_14: 18148.0000 - true_positives_14: 14446.0000 - val_loss: 2.8324 - val_binary_accuracy: 0.5907 - val_precision_14: 0.7027 - val_recall_14: 0.2713 - val_auc_14: 0.5382 - val_false_negatives_14: 3435.0000 - val_false_positives_14: 541.0000 - val_true_negatives_14: 4459.0000 - val_true_positives_14: 1279.0000\n",
            "Epoch 10/50\n",
            "1218/1218 [==============================] - 372s 306ms/step - loss: 0.2898 - binary_accuracy: 0.8538 - precision_14: 0.8982 - recall_14: 0.7888 - auc_14: 0.9430 - false_negatives_14: 4002.0000 - false_positives_14: 1694.0000 - true_negatives_14: 18306.0000 - true_positives_14: 14948.0000 - val_loss: 2.6788 - val_binary_accuracy: 0.5916 - val_precision_14: 0.6689 - val_recall_14: 0.3137 - val_auc_14: 0.5495 - val_false_negatives_14: 3235.0000 - val_false_positives_14: 732.0000 - val_true_negatives_14: 4268.0000 - val_true_positives_14: 1479.0000\n",
            "Epoch 11/50\n",
            "1218/1218 [==============================] - 372s 305ms/step - loss: 0.2626 - binary_accuracy: 0.8670 - precision_14: 0.9037 - recall_14: 0.8132 - auc_14: 0.9532 - false_negatives_14: 3539.0000 - false_positives_14: 1643.0000 - true_negatives_14: 18357.0000 - true_positives_14: 15411.0000 - val_loss: 3.4480 - val_binary_accuracy: 0.5966 - val_precision_14: 0.7104 - val_recall_14: 0.2847 - val_auc_14: 0.5511 - val_false_negatives_14: 3372.0000 - val_false_positives_14: 547.0000 - val_true_negatives_14: 4453.0000 - val_true_positives_14: 1342.0000\n",
            "Epoch 12/50\n",
            "1218/1218 [==============================] - 372s 305ms/step - loss: 0.2472 - binary_accuracy: 0.8764 - precision_14: 0.9173 - recall_14: 0.8199 - auc_14: 0.9589 - false_negatives_14: 3413.0000 - false_positives_14: 1400.0000 - true_negatives_14: 18600.0000 - true_positives_14: 15537.0000 - val_loss: 3.6387 - val_binary_accuracy: 0.5824 - val_precision_14: 0.6522 - val_recall_14: 0.2987 - val_auc_14: 0.5507 - val_false_negatives_14: 3306.0000 - val_false_positives_14: 751.0000 - val_true_negatives_14: 4249.0000 - val_true_positives_14: 1408.0000\n",
            "Epoch 13/50\n",
            "1218/1218 [==============================] - 372s 305ms/step - loss: 0.2228 - binary_accuracy: 0.8884 - precision_14: 0.9236 - recall_14: 0.8402 - auc_14: 0.9665 - false_negatives_14: 3028.0000 - false_positives_14: 1317.0000 - true_negatives_14: 18683.0000 - true_positives_14: 15922.0000 - val_loss: 4.4066 - val_binary_accuracy: 0.5917 - val_precision_14: 0.7261 - val_recall_14: 0.2548 - val_auc_14: 0.5394 - val_false_negatives_14: 3513.0000 - val_false_positives_14: 453.0000 - val_true_negatives_14: 4547.0000 - val_true_positives_14: 1201.0000\n"
          ]
        }
      ],
      "source": [
        "history = model.fit(train_dataset_cdfv2, \n",
        "          epochs = max_epochs, \n",
        "          validation_data = val_dataset_cdfv2,\n",
        "          callbacks = [MetricsCheckPoint(),\n",
        "                       model_checkpoint_callback,\n",
        "                       early_stopping_callback],\n",
        "          verbose = 1)"
      ]
    },
    {
      "attachments": {},
      "cell_type": "markdown",
      "metadata": {},
      "source": [
        "### Saving & Loading Model"
      ]
    },
    {
      "cell_type": "code",
      "execution_count": 81,
      "metadata": {},
      "outputs": [],
      "source": [
        "model.save_weights(SAVE_MODEL_PATH + 'model')"
      ]
    },
    {
      "cell_type": "code",
      "execution_count": 11,
      "metadata": {},
      "outputs": [
        {
          "data": {
            "text/plain": [
              "<tensorflow.python.checkpoint.checkpoint.CheckpointLoadStatus at 0x175313b1d20>"
            ]
          },
          "execution_count": 11,
          "metadata": {},
          "output_type": "execute_result"
        }
      ],
      "source": [
        "model.load_weights(SAVE_CHECKPOINT_PATH + 'checkpoint_final_sig')"
      ]
    },
    {
      "cell_type": "code",
      "execution_count": 8,
      "metadata": {},
      "outputs": [
        {
          "data": {
            "text/plain": [
              "<tensorflow.python.checkpoint.checkpoint.CheckpointLoadStatus at 0x7f60d5dd7460>"
            ]
          },
          "execution_count": 8,
          "metadata": {},
          "output_type": "execute_result"
        }
      ],
      "source": [
        "model.load_weights(SAVE_MODEL_PATH + 'model')"
      ]
    },
    {
      "attachments": {},
      "cell_type": "markdown",
      "metadata": {},
      "source": [
        "### Train Metrics"
      ]
    },
    {
      "cell_type": "code",
      "execution_count": 38,
      "metadata": {},
      "outputs": [
        {
          "name": "stdout",
          "output_type": "stream",
          "text": [
            "dict_keys(['loss', 'binary_accuracy', 'precision_23', 'recall_23', 'auc_23', 'false_negatives_23', 'false_positives_23', 'true_negatives_23', 'true_positives_23', 'val_loss', 'val_binary_accuracy', 'val_precision_23', 'val_recall_23', 'val_auc_23', 'val_false_negatives_23', 'val_false_positives_23', 'val_true_negatives_23', 'val_true_positives_23'])\n"
          ]
        }
      ],
      "source": [
        "metrics = {}\n",
        "with open(SAVE_METRICS_PATH + 'metrics_final_sig.pkl', 'rb') as f:\n",
        "    metrics = pickle.load(f)\n",
        "\n",
        "print(metrics.keys())"
      ]
    },
    {
      "cell_type": "code",
      "execution_count": 13,
      "metadata": {},
      "outputs": [],
      "source": [
        "acc = metrics['binary_accuracy']\n",
        "val_acc = metrics['val_binary_accuracy']\n",
        "\n",
        "precision = metrics['precision_23']\n",
        "val_precision = metrics['val_precision_23']\n",
        "\n",
        "recall = metrics['recall_23']\n",
        "val_recall = metrics['val_recall_23']\n",
        "\n",
        "auc = metrics['auc_23']\n",
        "val_auc = metrics['val_auc_23']\n",
        "\n",
        "loss = metrics['loss']\n",
        "val_loss = metrics['val_loss']\n",
        "\n",
        "false_negatives = metrics['false_negatives_23']\n",
        "val_false_negatives = metrics['val_false_negatives_23']\n",
        "\n",
        "false_positives = metrics['false_positives_23']\n",
        "val_false_positives = metrics['val_false_positives_23']\n",
        "\n",
        "true_negatives = metrics['true_negatives_23']\n",
        "val_true_negatives = metrics['val_true_negatives_23']\n",
        "\n",
        "true_positives = metrics['true_positives_23']\n",
        "val_true_positives = metrics['val_true_positives_23']"
      ]
    },
    {
      "cell_type": "code",
      "execution_count": 17,
      "metadata": {},
      "outputs": [
        {
          "data": {
            "image/png": "[encoded data removed]",
            "text/plain": [
              "<Figure size 640x480 with 1 Axes>"
            ]
          },
          "metadata": {},
          "output_type": "display_data"
        }
      ],
      "source": [
        "plt.plot(acc)\n",
        "plt.plot(val_acc)\n",
        "\n",
        "plt.title('Model Accuracy')\n",
        "plt.ylabel('Accuracy')\n",
        "plt.xlabel('Epoch')\n",
        "plt.legend(['train', 'val'], loc='upper left')\n",
        "plt.show()"
      ]
    },
    {
      "cell_type": "code",
      "execution_count": 18,
      "metadata": {},
      "outputs": [
        {
          "data": {
            "image/png": "[encoded data removed]",
            "text/plain": [
              "<Figure size 640x480 with 1 Axes>"
            ]
          },
          "metadata": {},
          "output_type": "display_data"
        }
      ],
      "source": [
        "plt.plot(precision)\n",
        "plt.plot(val_precision)\n",
        "\n",
        "plt.title('Model Precision')\n",
        "plt.ylabel('Precision')\n",
        "plt.xlabel('Epoch')\n",
        "plt.legend(['train', 'val'], loc='upper left')\n",
        "plt.show()"
      ]
    },
    {
      "cell_type": "code",
      "execution_count": 19,
      "metadata": {},
      "outputs": [
        {
          "data": {
            "image/png": "[encoded data removed]",
            "text/plain": [
              "<Figure size 640x480 with 1 Axes>"
            ]
          },
          "metadata": {},
          "output_type": "display_data"
        }
      ],
      "source": [
        "plt.plot(recall)\n",
        "plt.plot(val_recall)\n",
        "\n",
        "plt.title('Model Recall')\n",
        "plt.ylabel('Recall')\n",
        "plt.xlabel('Epoch')\n",
        "plt.legend(['train', 'val'], loc='upper left')\n",
        "plt.show()"
      ]
    },
    {
      "cell_type": "code",
      "execution_count": 20,
      "metadata": {},
      "outputs": [
        {
          "data": {
            "image/png": "[encoded data removed]",
            "text/plain": [
              "<Figure size 640x480 with 1 Axes>"
            ]
          },
          "metadata": {},
          "output_type": "display_data"
        }
      ],
      "source": [
        "plt.plot(auc)\n",
        "plt.plot(val_auc)\n",
        "\n",
        "plt.title('Model AUC')\n",
        "plt.ylabel('AUC')\n",
        "plt.xlabel('Epoch')\n",
        "plt.legend(['train', 'val'], loc='upper left')\n",
        "plt.show()"
      ]
    },
    {
      "cell_type": "code",
      "execution_count": 21,
      "metadata": {},
      "outputs": [
        {
          "data": {
            "image/png": "[encoded data removed]",
            "text/plain": [
              "<Figure size 640x480 with 1 Axes>"
            ]
          },
          "metadata": {},
          "output_type": "display_data"
        }
      ],
      "source": [
        "plt.plot(loss)\n",
        "plt.plot(val_loss)\n",
        "\n",
        "plt.title('Model Loss')\n",
        "plt.ylabel('Loss')\n",
        "plt.xlabel('Epoch')\n",
        "plt.legend(['train', 'val'], loc='upper left')\n",
        "plt.show()"
      ]
    },
    {
      "cell_type": "markdown",
      "metadata": {
        "id": "NNBqrwEzJymG"
      },
      "source": [
        "# Testing"
      ]
    },
    {
      "cell_type": "code",
      "execution_count": 183,
      "metadata": {},
      "outputs": [
        {
          "name": "stderr",
          "output_type": "stream",
          "text": [
            "2023-04-09 08:18:35.605181: I tensorflow/core/common_runtime/executor.cc:1197] [/device:CPU:0] (DEBUG INFO) Executor start aborting (this does not indicate an error and you can ignore this message): INVALID_ARGUMENT: You must feed a value for placeholder tensor 'Placeholder/_0' with dtype string and shape [16239]\n",
            "\t [[{{node Placeholder/_0}}]]\n",
            "2023-04-09 08:18:35.605724: I tensorflow/core/common_runtime/executor.cc:1197] [/device:CPU:0] (DEBUG INFO) Executor start aborting (this does not indicate an error and you can ignore this message): INVALID_ARGUMENT: You must feed a value for placeholder tensor 'Placeholder/_0' with dtype string and shape [16239]\n",
            "\t [[{{node Placeholder/_0}}]]\n"
          ]
        },
        {
          "name": "stdout",
          "output_type": "stream",
          "text": [
            "508/508 [==============================] - 46s 90ms/step - loss: 0.6284 - binary_accuracy: 0.6754 - precision_14: 0.6160 - recall_14: 0.2276 - auc_14: 0.6363 - false_negatives_14: 4453.0000 - false_positives_14: 818.0000 - true_negatives_14: 9656.0000 - true_positives_14: 1312.0000\n",
            "Loss: 0.6284\n",
            "Accuracy: 0.6754\n",
            "Precision: 0.6160\n",
            "Recall: 0.2276\n",
            "AUC: 0.6363\n",
            "--------------------\n",
            "False Positives: 4453.0\n",
            "False Negatives: 818.0\n",
            "True Positives: 9656.0\n",
            "True Negatives: 1312.0\n"
          ]
        }
      ],
      "source": [
        "loss, acc, prec, rec, auc, fp, fn, tp, tn = model.evaluate(test_dataset_cdfv2)\n",
        "\n",
        "print(f'Loss: {loss:.4f}')\n",
        "print(f'Accuracy: {acc:.4f}')\n",
        "print(f'Precision: {prec:.4f}')\n",
        "print(f'Recall: {rec:.4f}')\n",
        "print(f'AUC: {auc:.4f}')\n",
        "print('--------------------')\n",
        "print(f'False Positives: {fp}')\n",
        "print(f'False Negatives: {fn}')\n",
        "print(f'True Positives: {tp}')\n",
        "print(f'True Negatives: {tn}')"
      ]
    },
    {
      "attachments": {},
      "cell_type": "markdown",
      "metadata": {},
      "source": [
        "## Obtaining Test video scores"
      ]
    },
    {
      "attachments": {},
      "cell_type": "markdown",
      "metadata": {},
      "source": [
        "### Functions"
      ]
    },
    {
      "cell_type": "code",
      "execution_count": 39,
      "metadata": {},
      "outputs": [],
      "source": [
        "from sklearn import metrics"
      ]
    },
    {
      "cell_type": "code",
      "execution_count": 40,
      "metadata": {},
      "outputs": [],
      "source": [
        "class VideoScore():\n",
        "    def __init__(self, filename, score, true_class, fake_on_lower_half = True):\n",
        "        self.filename = filename\n",
        "        self.score = score\n",
        "        self.true_class = true_class\n",
        "        self.fake_on_lower_half = fake_on_lower_half\n",
        "\n",
        "    def get_filename(self):\n",
        "        return self.filename\n",
        "    \n",
        "    def get_score(self):\n",
        "        return self.score\n",
        "    \n",
        "    def get_true_class(self):\n",
        "        return self.true_class\n",
        "    \n",
        "    def get_fake_on_lower_half(self):\n",
        "        return self.fake_on_lower_half"
      ]
    },
    {
      "cell_type": "code",
      "execution_count": 41,
      "metadata": {},
      "outputs": [],
      "source": [
        "def calculate_metrics(scores):\n",
        "    true_fake, true_real, false_fake, false_real = 0, 0, 0, 0\n",
        "\n",
        "    for vid_score in scores:\n",
        "        score = vid_score.get_score()\n",
        "        if score < 0.5 and vid_score.get_true_class() == CLASS_FAKE:\n",
        "            true_fake += 1\n",
        "\n",
        "        elif score >= 0.5 and vid_score.get_true_class() == CLASS_REAL:\n",
        "            true_real += 1\n",
        "\n",
        "        elif score < 0.5 and vid_score.get_true_class() == CLASS_REAL:\n",
        "            false_fake += 1\n",
        "\n",
        "        else:\n",
        "            false_real += 1\n",
        "\n",
        "    accuracy = (true_real + true_fake) / (true_fake + true_real + false_fake + false_real)\n",
        "    precision = true_fake / (true_fake + false_fake)\n",
        "    recall = true_fake / (true_fake + false_real)\n",
        "\n",
        "\n",
        "    y_true = [0 if x.get_true_class() == CLASS_FAKE else 1 for x in scores]\n",
        "    y_score = [0 if x.get_score() < 0.5 else 1 for x in scores]\n",
        "\n",
        "    auc = metrics.roc_auc_score(y_true, y_score)\n",
        "\n",
        "    all_metrics = {}\n",
        "    all_metrics['true_fake'] = true_fake    \n",
        "    all_metrics['true_real'] = true_real\n",
        "    all_metrics['false_fake'] = false_fake\n",
        "    all_metrics['false_real'] = false_real\n",
        "    all_metrics['accuracy'] = accuracy\n",
        "    all_metrics['precision'] = precision\n",
        "    all_metrics['recall'] = recall\n",
        "    all_metrics['AUC'] = auc\n",
        "\n",
        "    return all_metrics"
      ]
    },
    {
      "cell_type": "code",
      "execution_count": 42,
      "metadata": {},
      "outputs": [],
      "source": [
        "def get_residuals(fp, num_segments):\n",
        "    vid_container = av.open(fp)\n",
        "    vid_stream = vid_container.streams.video[0]\n",
        "    frame_count = vid_stream.frames\n",
        "\n",
        "    segment_dividers = get_segment_dividers(frame_count, num_segments)\n",
        "\n",
        "    vid_container.seek(0)\n",
        "    frame_list = [frame.to_image() for frame in vid_container.decode()]\n",
        "\n",
        "    residuals = []\n",
        "    start_index = 0\n",
        "    for sd in segment_dividers:\n",
        "        residuals.append(frame_list[start_index:sd])\n",
        "        start_index = sd\n",
        "    \n",
        "    residuals.append(frame_list[start_index:])\n",
        "\n",
        "    return residuals"
      ]
    },
    {
      "cell_type": "code",
      "execution_count": 43,
      "metadata": {},
      "outputs": [],
      "source": [
        "def calculate_video_scores(model, fp):\n",
        "    residuals = get_residuals(fp, num_segments=3)\n",
        "\n",
        "    results = []\n",
        "    for residual_set in residuals:\n",
        "        tf_frames = []\n",
        "\n",
        "        for frame in residual_set:\n",
        "            tf_frames.append(img_to_array(tf.image.resize(frame, size = [224, 224])))\n",
        "\n",
        "        tf_frames = np.asarray(tf_frames)\n",
        "        result = model.predict(tf_frames, verbose=0)\n",
        "        results.append(np.average(result))\n",
        "\n",
        "    max_val = np.max(results)\n",
        "    min_val = np.min(results)\n",
        "\n",
        "    return max_val if 1 - max_val < min_val else min_val"
      ]
    },
    {
      "cell_type": "code",
      "execution_count": 44,
      "metadata": {},
      "outputs": [],
      "source": [
        "def calculate_scores(dataset, split, model):\n",
        "    video_scores = []\n",
        "\n",
        "    for class_dir in CLASS:\n",
        "        print(f'Class started: {class_dir}')\n",
        "    \n",
        "        vid_dir = dataset + DS_FRAME_DIFF + split + class_dir\n",
        "        for video in os.listdir(vid_dir):\n",
        "            fp = vid_dir + video\n",
        "\n",
        "            video_score = VideoScore(video, \n",
        "                                    calculate_video_scores(model, fp),\n",
        "                                    class_dir)\n",
        "            \n",
        "            video_scores.append(video_score)\n",
        "\n",
        "    return video_scores"
      ]
    },
    {
      "cell_type": "code",
      "execution_count": null,
      "metadata": {},
      "outputs": [],
      "source": [
        "temporal_model_test_scores = calculate_scores(DS_CDFV2, DS_TEST, model)\n",
        "\n",
        "with open(TEST_SCORE_PATH + 'temporal_scores_test_2', 'wb') as f:\n",
        "    pickle.dump(temporal_model_test_scores, f)"
      ]
    },
    {
      "cell_type": "code",
      "execution_count": 257,
      "metadata": {},
      "outputs": [
        {
          "name": "stdout",
          "output_type": "stream",
          "text": [
            "Class started: real/\n",
            "Class started: fake/\n"
          ]
        }
      ],
      "source": [
        "temporal_model_test_scores = calculate_scores(DS_CDFV2, DS_TRAIN, model)\n",
        "\n",
        "with open(TEST_SCORE_PATH + 'temporal_scores_train_2', 'wb') as f:\n",
        "    pickle.dump(temporal_model_test_scores, f)"
      ]
    },
    {
      "attachments": {},
      "cell_type": "markdown",
      "metadata": {},
      "source": [
        "### Test Results"
      ]
    },
    {
      "cell_type": "code",
      "execution_count": 46,
      "metadata": {},
      "outputs": [],
      "source": [
        "with open(TEST_SCORE_PATH + 'temporal_scores_test', 'rb') as f:\n",
        "    temporal_test_scores = pickle.load(f)"
      ]
    },
    {
      "cell_type": "code",
      "execution_count": 47,
      "metadata": {},
      "outputs": [],
      "source": [
        "all_metrics = calculate_metrics(temporal_test_scores)"
      ]
    },
    {
      "cell_type": "code",
      "execution_count": 48,
      "metadata": {},
      "outputs": [
        {
          "name": "stdout",
          "output_type": "stream",
          "text": [
            "True Fake:314\n",
            "True Real:42\n",
            "False Fake:136\n",
            "False Real:26\n",
            "---\n",
            "Accuracy: 0.6873\n",
            "Precision: 0.6978\n",
            "Recall: 0.9235\n",
            "AUC Score: 0.5797\n"
          ]
        }
      ],
      "source": [
        "print(f'True Fake:{all_metrics[\"true_fake\"]}')\n",
        "print(f'True Real:{all_metrics[\"true_real\"]}')\n",
        "print(f'False Fake:{all_metrics[\"false_fake\"]}')\n",
        "print(f'False Real:{all_metrics[\"false_real\"]}')\n",
        "print(f'---')\n",
        "print(f'Accuracy: {all_metrics[\"accuracy\"]:.4f}')\n",
        "print(f'Precision: {all_metrics[\"precision\"]:.4f}')\n",
        "print(f'Recall: {all_metrics[\"recall\"]:.4f}')\n",
        "print(f'AUC Score: {all_metrics[\"AUC\"]:.4f}')"
      ]
    }
  ],
  "metadata": {
    "accelerator": "GPU",
    "colab": {
      "provenance": []
    },
    "gpuClass": "standard",
    "kernelspec": {
      "display_name": "venv",
      "language": "python",
      "name": "python3"
    },
    "language_info": {
      "codemirror_mode": {
        "name": "ipython",
        "version": 3
      },
      "file_extension": ".py",
      "mimetype": "text/x-python",
      "name": "python",
      "nbconvert_exporter": "python",
      "pygments_lexer": "ipython3",
      "version": "3.10.4"
    },
    "orig_nbformat": 4
  },
  "nbformat": 4,
  "nbformat_minor": 0
}
